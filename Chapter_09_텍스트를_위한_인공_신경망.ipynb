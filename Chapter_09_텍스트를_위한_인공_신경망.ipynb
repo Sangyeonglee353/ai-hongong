{
  "nbformat": 4,
  "nbformat_minor": 0,
  "metadata": {
    "colab": {
      "provenance": [],
      "authorship_tag": "ABX9TyNT9SMUDXJiIwvunZVRB8cQ",
      "include_colab_link": true
    },
    "kernelspec": {
      "name": "python3",
      "display_name": "Python 3"
    },
    "language_info": {
      "name": "python"
    }
  },
  "cells": [
    {
      "cell_type": "markdown",
      "metadata": {
        "id": "view-in-github",
        "colab_type": "text"
      },
      "source": [
        "<a href=\"https://colab.research.google.com/github/Sangyeonglee353/ai-hongong/blob/main/Chapter_09_%ED%85%8D%EC%8A%A4%ED%8A%B8%EB%A5%BC_%EC%9C%84%ED%95%9C_%EC%9D%B8%EA%B3%B5_%EC%8B%A0%EA%B2%BD%EB%A7%9D.ipynb\" target=\"_parent\"><img src=\"https://colab.research.google.com/assets/colab-badge.svg\" alt=\"Open In Colab\"/></a>"
      ]
    },
    {
      "cell_type": "markdown",
      "source": [
        "# Ch09-1 | 순차 데이터와 순환 신경망"
      ],
      "metadata": {
        "id": "5rzl1ubOie92"
      }
    },
    {
      "cell_type": "markdown",
      "source": [
        "# Ch09-2 | 순환 신경망으로 IMDB 리뷰 분류하기"
      ],
      "metadata": {
        "id": "jMLvXiIXizRB"
      }
    },
    {
      "cell_type": "markdown",
      "source": [
        "## IMDB 리뷰 데이터셋"
      ],
      "metadata": {
        "id": "0L3yuPPXYFta"
      }
    },
    {
      "cell_type": "code",
      "source": [
        "# 1. IMDB 리뷰 데이터셋 가져오기\n",
        "# [참고] imdb.load_data: 전체 어휘 사전에 있는 단어를 등장 순서대로 나열한 다음 가장 많이 등장한 {num_words} 단어 선택\n",
        "from tensorflow.keras.datasets import imdb\n",
        "(train_input, train_target), (test_input, test_target) = imdb.load_data(num_words=300)"
      ],
      "metadata": {
        "colab": {
          "base_uri": "https://localhost:8080/"
        },
        "id": "rOBmHDaaYKLp",
        "outputId": "5e691c7a-0203-442a-da94-1438eaf83bbb"
      },
      "execution_count": 1,
      "outputs": [
        {
          "output_type": "stream",
          "name": "stdout",
          "text": [
            "Downloading data from https://storage.googleapis.com/tensorflow/tf-keras-datasets/imdb.npz\n",
            "17464789/17464789 [==============================] - 0s 0us/step\n"
          ]
        }
      ]
    },
    {
      "cell_type": "code",
      "source": [
        "# 2. 훈련 세트와 테스트 세트 크기 확인\n",
        "## 리뷰 텍스트 길이가 제각각 -> 별도의 파이썬 리스트로 넘파이 배열로 보관 -> 메모리 효율적 사용\n",
        "print(train_input.shape, test_input.shape)"
      ],
      "metadata": {
        "colab": {
          "base_uri": "https://localhost:8080/"
        },
        "id": "4La-NRjtYZXo",
        "outputId": "ecc79fef-e16c-4d0f-e9a0-e8a9c2688ff6"
      },
      "execution_count": 2,
      "outputs": [
        {
          "output_type": "stream",
          "name": "stdout",
          "text": [
            "(25000,) (25000,)\n"
          ]
        }
      ]
    },
    {
      "cell_type": "code",
      "source": [
        "# 3-1. 첫 번째 리뷰 길이 확인\n",
        "## [참고] 넘파이 배열: 정수나 실수 외에도 파이썬 객체로 담을 수 있음.\n",
        "print(len(train_input[0]))"
      ],
      "metadata": {
        "colab": {
          "base_uri": "https://localhost:8080/"
        },
        "id": "6oB0tuK2Yydg",
        "outputId": "eccb7b9f-68a1-4716-c159-cd5c087265cb"
      },
      "execution_count": 4,
      "outputs": [
        {
          "output_type": "stream",
          "name": "stdout",
          "text": [
            "218\n"
          ]
        }
      ]
    },
    {
      "cell_type": "code",
      "source": [
        "# 3-2. 두 번째 리뷰 길이 확인\n",
        "print(len(train_input[1]))"
      ],
      "metadata": {
        "colab": {
          "base_uri": "https://localhost:8080/"
        },
        "id": "UEj-wITzY_Xy",
        "outputId": "ac856608-86af-4fbc-c66c-6a64ebb57ffe"
      },
      "execution_count": 5,
      "outputs": [
        {
          "output_type": "stream",
          "name": "stdout",
          "text": [
            "189\n"
          ]
        }
      ]
    },
    {
      "cell_type": "code",
      "source": [
        "# 3-3. 첫 번째 리뷰에 담긴 내용 출력\n",
        "print(train_input[0])"
      ],
      "metadata": {
        "colab": {
          "base_uri": "https://localhost:8080/"
        },
        "id": "8SPf3f0cZKiF",
        "outputId": "7b142d18-1f21-4dc2-a0ad-1f3a2aa2535a"
      },
      "execution_count": 6,
      "outputs": [
        {
          "output_type": "stream",
          "name": "stdout",
          "text": [
            "[1, 14, 22, 16, 43, 2, 2, 2, 2, 65, 2, 2, 66, 2, 4, 173, 36, 256, 5, 25, 100, 43, 2, 112, 50, 2, 2, 9, 35, 2, 284, 5, 150, 4, 172, 112, 167, 2, 2, 2, 39, 4, 172, 2, 2, 17, 2, 38, 13, 2, 4, 192, 50, 16, 6, 147, 2, 19, 14, 22, 4, 2, 2, 2, 4, 22, 71, 87, 12, 16, 43, 2, 38, 76, 15, 13, 2, 4, 22, 17, 2, 17, 12, 16, 2, 18, 2, 5, 62, 2, 12, 8, 2, 8, 106, 5, 4, 2, 2, 16, 2, 66, 2, 33, 4, 130, 12, 16, 38, 2, 5, 25, 124, 51, 36, 135, 48, 25, 2, 33, 6, 22, 12, 215, 28, 77, 52, 5, 14, 2, 16, 82, 2, 8, 4, 107, 117, 2, 15, 256, 4, 2, 7, 2, 5, 2, 36, 71, 43, 2, 2, 26, 2, 2, 46, 7, 4, 2, 2, 13, 104, 88, 4, 2, 15, 297, 98, 32, 2, 56, 26, 141, 6, 194, 2, 18, 4, 226, 22, 21, 134, 2, 26, 2, 5, 144, 30, 2, 18, 51, 36, 28, 224, 92, 25, 104, 4, 226, 65, 16, 38, 2, 88, 12, 16, 283, 5, 16, 2, 113, 103, 32, 15, 16, 2, 19, 178, 32]\n"
          ]
        }
      ]
    },
    {
      "cell_type": "code",
      "source": [
        "# 4. 타깃 데이터 출력\n",
        "print(train_target[:20])"
      ],
      "metadata": {
        "colab": {
          "base_uri": "https://localhost:8080/"
        },
        "id": "1JhRAcBfZxFo",
        "outputId": "4965c249-dfa6-48c0-baa3-1fe16d41f56d"
      },
      "execution_count": 7,
      "outputs": [
        {
          "output_type": "stream",
          "name": "stdout",
          "text": [
            "[1 0 0 1 0 0 1 0 1 0 1 0 0 0 0 0 1 1 0 1]\n"
          ]
        }
      ]
    },
    {
      "cell_type": "code",
      "source": [
        "# 긍정(0), 부정(1) 판단 -> 이진분류 문제\n",
        "# 5. 훈련 세트와 검증 세트 분리(8:2)\n",
        "from sklearn.model_selection import train_test_split\n",
        "train_input, val_input, train_target, val_target = train_test_split(train_input, train_target, test_size=0.2, random_state=42)"
      ],
      "metadata": {
        "id": "mIUhhyJFZ2y1"
      },
      "execution_count": 8,
      "outputs": []
    },
    {
      "cell_type": "code",
      "source": [
        "# 6. 훈련 세트 조사\n",
        "# 6.1 리뷰의 길이 계산 for 평균 리뷰 길이, 최소 리뷰 길이, 최대 리뷰 길이 확인\n",
        "import numpy as np\n",
        "lengths = np.array([len(x) for x in train_input])\n",
        "\n",
        "# 6.2 리뷰 길이의 평균과 중간값 구하기\n",
        "print(np.mean(lengths), np.median(lengths))"
      ],
      "metadata": {
        "colab": {
          "base_uri": "https://localhost:8080/"
        },
        "id": "gAGgANA2aqph",
        "outputId": "18a5585f-e397-4edc-afb4-4412bf1d8e1d"
      },
      "execution_count": 9,
      "outputs": [
        {
          "output_type": "stream",
          "name": "stdout",
          "text": [
            "239.00925 178.0\n"
          ]
        }
      ]
    },
    {
      "cell_type": "code",
      "source": [
        "# 6.3 lengths 배열 > 히스토그램으로 표현\n",
        "## [결과 해석] 대부분 리뷰 길이 300미만, 대부분 짧으므로 100개의 단어만 사용\n",
        "## [결과 해석] 단, 100보다 작은 리뷰는 패딩(0)으로 길이를 맞춤.\n",
        "import matplotlib.pyplot as plt\n",
        "plt.hist(lengths)\n",
        "plt.xlabel('length')\n",
        "plt.ylabel('frequency')\n",
        "plt.show()"
      ],
      "metadata": {
        "colab": {
          "base_uri": "https://localhost:8080/",
          "height": 449
        },
        "id": "9gqYsXNIbfgm",
        "outputId": "dab9af16-9cdc-4333-b16f-0f12c995555c"
      },
      "execution_count": 10,
      "outputs": [
        {
          "output_type": "display_data",
          "data": {
            "text/plain": [
              "<Figure size 640x480 with 1 Axes>"
            ],
            "image/png": "[encoded data removed]"
          },
          "metadata": {}
        }
      ]
    },
    {
      "cell_type": "code",
      "source": [
        "# 7. 길이 100으로 조정\n",
        "# 7.1 길이 조정\n",
        "# [참고] pad_sequence(): 길이가 짧으면 앞부분을 0으로 패딩\n",
        "from tensorflow.keras.preprocessing.sequence import pad_sequences\n",
        "train_seq = pad_sequences(train_input, maxlen=100)\n",
        "\n",
        "# 7.2 train_seq 크기 확인\n",
        "print(train_seq.shape)"
      ],
      "metadata": {
        "colab": {
          "base_uri": "https://localhost:8080/"
        },
        "id": "lw3z2ER_cu-o",
        "outputId": "b95acd3a-0854-4902-85b2-c5fb9f77d942"
      },
      "execution_count": 11,
      "outputs": [
        {
          "output_type": "stream",
          "name": "stdout",
          "text": [
            "(20000, 100)\n"
          ]
        }
      ]
    },
    {
      "cell_type": "code",
      "source": [
        "# 7.3 첫 번째 샘플 출력\n",
        "print(train_seq[0])"
      ],
      "metadata": {
        "colab": {
          "base_uri": "https://localhost:8080/"
        },
        "id": "tE-K-627dRNu",
        "outputId": "b474b431-5a35-4f60-9872-6d851871547f"
      },
      "execution_count": 12,
      "outputs": [
        {
          "output_type": "stream",
          "name": "stdout",
          "text": [
            "[ 10   4  20   9   2   2   2   5  45   6   2   2  33 269   8   2 142   2\n",
            "   5   2  17  73  17 204   5   2  19  55   2   2  92  66 104  14  20  93\n",
            "  76   2 151  33   4  58  12 188   2 151  12 215  69 224 142  73 237   6\n",
            "   2   7   2   2 188   2 103  14  31  10  10   2   7   2   5   2  80  91\n",
            "   2  30   2  34  14  20 151  50  26 131  49   2  84  46  50  37  80  79\n",
            "   6   2  46   7  14  20  10  10   2 158]\n"
          ]
        }
      ]
    },
    {
      "cell_type": "code",
      "source": [
        "# 7.4 원본 샘플 끝 확인(잘린 부분 체크)\n",
        "## [결과 해석] 앞 부분이 짤림. 뒷 부분과 일치하므로\n",
        "print(train_input[0][-10:])"
      ],
      "metadata": {
        "colab": {
          "base_uri": "https://localhost:8080/"
        },
        "id": "fhCVW4rHdWUw",
        "outputId": "d195933f-9846-4a25-c7f5-214b1be3628d"
      },
      "execution_count": 13,
      "outputs": [
        {
          "output_type": "stream",
          "name": "stdout",
          "text": [
            "[6, 2, 46, 7, 14, 20, 10, 10, 2, 158]\n"
          ]
        }
      ]
    },
    {
      "cell_type": "code",
      "source": [
        "# 7.5 여섯 번째 샘플 출력\n",
        "print(train_seq[5])"
      ],
      "metadata": {
        "colab": {
          "base_uri": "https://localhost:8080/"
        },
        "id": "T_KsDNKxdot1",
        "outputId": "af15131c-beec-4aa9-d236-c4ca8641aa5b"
      },
      "execution_count": 14,
      "outputs": [
        {
          "output_type": "stream",
          "name": "stdout",
          "text": [
            "[  0   0   0   0   1   2 195  19  49   2   2 190   4   2   2   2 183  10\n",
            "  10  13  82  79   4   2  36  71 269   8   2  25  19  49   7   4   2   2\n",
            "   2   2   2  10  10  48  25  40   2  11   2   2  40   2   2   5   4   2\n",
            "   2  95  14 238  56 129   2  10  10  21   2  94   2   2   2   2  11 190\n",
            "  24   2   2   7  94 205   2  10  10  87   2  34  49   2   7   2   2   2\n",
            "   2   2 290   2  46  48  64  18   4   2]\n"
          ]
        }
      ]
    },
    {
      "cell_type": "code",
      "source": [
        "# 7.6 검증 세트의 길이도 100으로 조정\n",
        "val_seq = pad_sequences(val_input, maxlen=100)"
      ],
      "metadata": {
        "id": "hvGwZkVEdvsf"
      },
      "execution_count": 15,
      "outputs": []
    },
    {
      "cell_type": "markdown",
      "source": [
        "## 순환 신경망 만들기"
      ],
      "metadata": {
        "id": "T8sXGHVWd8i8"
      }
    },
    {
      "cell_type": "code",
      "source": [
        "# 1. SimpleRNN 클래스 사용\n",
        "from tensorflow import keras\n",
        "model = keras.Sequential()\n",
        "model.add(keras.layers.SimpleRNN(8, input_shape=(100, 300)))\n",
        "model.add(keras.layers.Dense(1, activation='sigmoid')) # 이진 분류이므로, 활성화 함수: sigmoid"
      ],
      "metadata": {
        "id": "HEoEdGnud_MG"
      },
      "execution_count": 17,
      "outputs": []
    },
    {
      "cell_type": "code",
      "source": [
        "# 2. 원-핫 인코딩\n",
        "# 2.1 인코딩 진행\n",
        "train_oh = keras.utils.to_categorical(train_seq)\n",
        "\n",
        "# 2.2 배열 크기 확인\n",
        "print(train_oh.shape)"
      ],
      "metadata": {
        "colab": {
          "base_uri": "https://localhost:8080/"
        },
        "id": "gFEeR2A9f5RQ",
        "outputId": "22c4d5ea-b74c-4875-92ab-8ce633e33815"
      },
      "execution_count": 18,
      "outputs": [
        {
          "output_type": "stream",
          "name": "stdout",
          "text": [
            "(20000, 100, 300)\n"
          ]
        }
      ]
    },
    {
      "cell_type": "code",
      "source": [
        "# 2.3 인코딩 결과 확인\n",
        "# 첫 번째 토큰의 10의 인코딩 확인\n",
        "print(train_oh[0][0][:12])"
      ],
      "metadata": {
        "colab": {
          "base_uri": "https://localhost:8080/"
        },
        "id": "s4_h44RSicmB",
        "outputId": "0655a281-37dd-49e2-dabb-293cb6436817"
      },
      "execution_count": 19,
      "outputs": [
        {
          "output_type": "stream",
          "name": "stdout",
          "text": [
            "[0. 0. 0. 0. 0. 0. 0. 0. 0. 0. 1. 0.]\n"
          ]
        }
      ]
    },
    {
      "cell_type": "code",
      "source": [
        "# 2.4 나머지가 모두 0인지 확인\n",
        "print(np.sum(train_oh[0][0]))"
      ],
      "metadata": {
        "colab": {
          "base_uri": "https://localhost:8080/"
        },
        "id": "ugo3kHVNisqg",
        "outputId": "ab960c1d-6b03-4b4a-ca33-0e24daa52344"
      },
      "execution_count": 20,
      "outputs": [
        {
          "output_type": "stream",
          "name": "stdout",
          "text": [
            "1.0\n"
          ]
        }
      ]
    },
    {
      "cell_type": "code",
      "source": [
        "# 2.5 검증 세트의 원-핫 인코딩\n",
        "val_oh = keras.utils.to_categorical(val_seq)"
      ],
      "metadata": {
        "id": "XCu74pkoi0Pc"
      },
      "execution_count": 21,
      "outputs": []
    },
    {
      "cell_type": "code",
      "source": [
        "# 2.6 모델 구조 출력\n",
        "model.summary()"
      ],
      "metadata": {
        "colab": {
          "base_uri": "https://localhost:8080/"
        },
        "id": "tV4QfLuZjHgQ",
        "outputId": "914ba97a-973f-49f9-96d8-746da2f79d28"
      },
      "execution_count": 22,
      "outputs": [
        {
          "output_type": "stream",
          "name": "stdout",
          "text": [
            "Model: \"sequential_1\"\n",
            "_________________________________________________________________\n",
            " Layer (type)                Output Shape              Param #   \n",
            "=================================================================\n",
            " simple_rnn_1 (SimpleRNN)    (None, 8)                 2472      \n",
            "                                                                 \n",
            " dense_1 (Dense)             (None, 1)                 9         \n",
            "                                                                 \n",
            "=================================================================\n",
            "Total params: 2481 (9.69 KB)\n",
            "Trainable params: 2481 (9.69 KB)\n",
            "Non-trainable params: 0 (0.00 Byte)\n",
            "_________________________________________________________________\n"
          ]
        }
      ]
    },
    {
      "cell_type": "markdown",
      "source": [
        "## 순환 신경망 훈련하기"
      ],
      "metadata": {
        "id": "HZL71LbmkHcM"
      }
    },
    {
      "cell_type": "code",
      "source": [
        "# 1. 모델 훈련\n",
        "rmsprop = keras.optimizers.RMSprop(learning_rate=1e-4)\n",
        "model.compile(optimizer=rmsprop, loss='binary_crossentropy', metrics=['accuracy'])\n",
        "checkpoint_cb = keras.callbacks.ModelCheckpoint('best-simplernn-model.h5', save_best_only=True)\n",
        "early_stopping_cb = keras.callbacks.EarlyStopping(patience=3, restore_best_weights=True)\n",
        "history = model.fit(train_oh, train_target, epochs=100, batch_size=64,\n",
        "                    validation_data=(val_oh, val_target),\n",
        "                    callbacks=[checkpoint_cb, early_stopping_cb])"
      ],
      "metadata": {
        "colab": {
          "base_uri": "https://localhost:8080/"
        },
        "id": "T6q4xdNIkKBo",
        "outputId": "ff9ef038-27ef-466f-950c-461a51b07f23"
      },
      "execution_count": 24,
      "outputs": [
        {
          "output_type": "stream",
          "name": "stdout",
          "text": [
            "Epoch 1/100\n",
            "313/313 [==============================] - 13s 38ms/step - loss: 0.7033 - accuracy: 0.5033 - val_loss: 0.6985 - val_accuracy: 0.5094\n",
            "Epoch 2/100\n",
            "  7/313 [..............................] - ETA: 6s - loss: 0.7053 - accuracy: 0.4911"
          ]
        },
        {
          "output_type": "stream",
          "name": "stderr",
          "text": [
            "/usr/local/lib/python3.10/dist-packages/keras/src/engine/training.py:3103: UserWarning: You are saving your model as an HDF5 file via `model.save()`. This file format is considered legacy. We recommend using instead the native Keras format, e.g. `model.save('my_model.keras')`.\n",
            "  saving_api.save_model(\n"
          ]
        },
        {
          "output_type": "stream",
          "name": "stdout",
          "text": [
            "313/313 [==============================] - 10s 32ms/step - loss: 0.6961 - accuracy: 0.5103 - val_loss: 0.6955 - val_accuracy: 0.5176\n",
            "Epoch 3/100\n",
            "313/313 [==============================] - 9s 29ms/step - loss: 0.6927 - accuracy: 0.5196 - val_loss: 0.6929 - val_accuracy: 0.5220\n",
            "Epoch 4/100\n",
            "313/313 [==============================] - 10s 31ms/step - loss: 0.6898 - accuracy: 0.5319 - val_loss: 0.6904 - val_accuracy: 0.5312\n",
            "Epoch 5/100\n",
            "313/313 [==============================] - 9s 29ms/step - loss: 0.6867 - accuracy: 0.5440 - val_loss: 0.6870 - val_accuracy: 0.5448\n",
            "Epoch 6/100\n",
            "313/313 [==============================] - 8s 27ms/step - loss: 0.6824 - accuracy: 0.5604 - val_loss: 0.6815 - val_accuracy: 0.5634\n",
            "Epoch 7/100\n",
            "313/313 [==============================] - 8s 27ms/step - loss: 0.6743 - accuracy: 0.5848 - val_loss: 0.6696 - val_accuracy: 0.6074\n",
            "Epoch 8/100\n",
            "313/313 [==============================] - 9s 28ms/step - loss: 0.6591 - accuracy: 0.6217 - val_loss: 0.6541 - val_accuracy: 0.6306\n",
            "Epoch 9/100\n",
            "313/313 [==============================] - 9s 30ms/step - loss: 0.6470 - accuracy: 0.6379 - val_loss: 0.6431 - val_accuracy: 0.6456\n",
            "Epoch 10/100\n",
            "313/313 [==============================] - 8s 25ms/step - loss: 0.6377 - accuracy: 0.6513 - val_loss: 0.6359 - val_accuracy: 0.6498\n",
            "Epoch 11/100\n",
            "313/313 [==============================] - 9s 30ms/step - loss: 0.6307 - accuracy: 0.6582 - val_loss: 0.6278 - val_accuracy: 0.6592\n",
            "Epoch 12/100\n",
            "313/313 [==============================] - 9s 29ms/step - loss: 0.6226 - accuracy: 0.6661 - val_loss: 0.6220 - val_accuracy: 0.6658\n",
            "Epoch 13/100\n",
            "313/313 [==============================] - 8s 24ms/step - loss: 0.6157 - accuracy: 0.6730 - val_loss: 0.6201 - val_accuracy: 0.6644\n",
            "Epoch 14/100\n",
            "313/313 [==============================] - 9s 29ms/step - loss: 0.6081 - accuracy: 0.6816 - val_loss: 0.6069 - val_accuracy: 0.6786\n",
            "Epoch 15/100\n",
            "313/313 [==============================] - 9s 30ms/step - loss: 0.6007 - accuracy: 0.6898 - val_loss: 0.6014 - val_accuracy: 0.6844\n",
            "Epoch 16/100\n",
            "313/313 [==============================] - 8s 25ms/step - loss: 0.5945 - accuracy: 0.6963 - val_loss: 0.5949 - val_accuracy: 0.6916\n",
            "Epoch 17/100\n",
            "313/313 [==============================] - 10s 31ms/step - loss: 0.5894 - accuracy: 0.7020 - val_loss: 0.5911 - val_accuracy: 0.6942\n",
            "Epoch 18/100\n",
            "313/313 [==============================] - 10s 30ms/step - loss: 0.5846 - accuracy: 0.7058 - val_loss: 0.5901 - val_accuracy: 0.6934\n",
            "Epoch 19/100\n",
            "313/313 [==============================] - 11s 37ms/step - loss: 0.5811 - accuracy: 0.7090 - val_loss: 0.5858 - val_accuracy: 0.6966\n",
            "Epoch 20/100\n",
            "313/313 [==============================] - 15s 47ms/step - loss: 0.5760 - accuracy: 0.7135 - val_loss: 0.5811 - val_accuracy: 0.6996\n",
            "Epoch 21/100\n",
            "313/313 [==============================] - 17s 55ms/step - loss: 0.5727 - accuracy: 0.7161 - val_loss: 0.5781 - val_accuracy: 0.7022\n",
            "Epoch 22/100\n",
            "313/313 [==============================] - 16s 53ms/step - loss: 0.5698 - accuracy: 0.7183 - val_loss: 0.5743 - val_accuracy: 0.7064\n",
            "Epoch 23/100\n",
            "313/313 [==============================] - 12s 37ms/step - loss: 0.5665 - accuracy: 0.7207 - val_loss: 0.5725 - val_accuracy: 0.7070\n",
            "Epoch 24/100\n",
            "313/313 [==============================] - 10s 31ms/step - loss: 0.5628 - accuracy: 0.7232 - val_loss: 0.5851 - val_accuracy: 0.6974\n",
            "Epoch 25/100\n",
            "313/313 [==============================] - 9s 30ms/step - loss: 0.5590 - accuracy: 0.7261 - val_loss: 0.5673 - val_accuracy: 0.7134\n",
            "Epoch 26/100\n",
            "313/313 [==============================] - 8s 27ms/step - loss: 0.5556 - accuracy: 0.7286 - val_loss: 0.5626 - val_accuracy: 0.7176\n",
            "Epoch 27/100\n",
            "313/313 [==============================] - 12s 39ms/step - loss: 0.5515 - accuracy: 0.7323 - val_loss: 0.5599 - val_accuracy: 0.7186\n",
            "Epoch 28/100\n",
            "313/313 [==============================] - 12s 37ms/step - loss: 0.5481 - accuracy: 0.7358 - val_loss: 0.5588 - val_accuracy: 0.7198\n",
            "Epoch 29/100\n",
            "313/313 [==============================] - 12s 38ms/step - loss: 0.5450 - accuracy: 0.7386 - val_loss: 0.5543 - val_accuracy: 0.7230\n",
            "Epoch 30/100\n",
            "313/313 [==============================] - 11s 35ms/step - loss: 0.5411 - accuracy: 0.7422 - val_loss: 0.5512 - val_accuracy: 0.7280\n",
            "Epoch 31/100\n",
            "313/313 [==============================] - 16s 50ms/step - loss: 0.5379 - accuracy: 0.7423 - val_loss: 0.5485 - val_accuracy: 0.7300\n",
            "Epoch 32/100\n",
            "313/313 [==============================] - 16s 51ms/step - loss: 0.5353 - accuracy: 0.7455 - val_loss: 0.5462 - val_accuracy: 0.7288\n",
            "Epoch 33/100\n",
            "313/313 [==============================] - 9s 29ms/step - loss: 0.5330 - accuracy: 0.7456 - val_loss: 0.5448 - val_accuracy: 0.7278\n",
            "Epoch 34/100\n",
            "313/313 [==============================] - 9s 30ms/step - loss: 0.5299 - accuracy: 0.7493 - val_loss: 0.5432 - val_accuracy: 0.7320\n",
            "Epoch 35/100\n",
            "313/313 [==============================] - 8s 25ms/step - loss: 0.5276 - accuracy: 0.7502 - val_loss: 0.5418 - val_accuracy: 0.7300\n",
            "Epoch 36/100\n",
            "313/313 [==============================] - 9s 30ms/step - loss: 0.5246 - accuracy: 0.7539 - val_loss: 0.5400 - val_accuracy: 0.7322\n",
            "Epoch 37/100\n",
            "313/313 [==============================] - 9s 29ms/step - loss: 0.5226 - accuracy: 0.7539 - val_loss: 0.5374 - val_accuracy: 0.7342\n",
            "Epoch 38/100\n",
            "313/313 [==============================] - 8s 27ms/step - loss: 0.5208 - accuracy: 0.7548 - val_loss: 0.5386 - val_accuracy: 0.7310\n",
            "Epoch 39/100\n",
            "313/313 [==============================] - 9s 27ms/step - loss: 0.5188 - accuracy: 0.7545 - val_loss: 0.5373 - val_accuracy: 0.7322\n",
            "Epoch 40/100\n",
            "313/313 [==============================] - 9s 30ms/step - loss: 0.5166 - accuracy: 0.7576 - val_loss: 0.5344 - val_accuracy: 0.7348\n",
            "Epoch 41/100\n",
            "313/313 [==============================] - 10s 31ms/step - loss: 0.5148 - accuracy: 0.7584 - val_loss: 0.5347 - val_accuracy: 0.7352\n",
            "Epoch 42/100\n",
            "313/313 [==============================] - 9s 30ms/step - loss: 0.5131 - accuracy: 0.7581 - val_loss: 0.5350 - val_accuracy: 0.7372\n",
            "Epoch 43/100\n",
            "313/313 [==============================] - 9s 30ms/step - loss: 0.5108 - accuracy: 0.7589 - val_loss: 0.5326 - val_accuracy: 0.7372\n",
            "Epoch 44/100\n",
            "313/313 [==============================] - 10s 30ms/step - loss: 0.5101 - accuracy: 0.7602 - val_loss: 0.5357 - val_accuracy: 0.7344\n",
            "Epoch 45/100\n",
            "313/313 [==============================] - 9s 29ms/step - loss: 0.5081 - accuracy: 0.7619 - val_loss: 0.5347 - val_accuracy: 0.7360\n",
            "Epoch 46/100\n",
            "313/313 [==============================] - 11s 34ms/step - loss: 0.5067 - accuracy: 0.7634 - val_loss: 0.5324 - val_accuracy: 0.7380\n",
            "Epoch 47/100\n",
            "313/313 [==============================] - 11s 35ms/step - loss: 0.5062 - accuracy: 0.7618 - val_loss: 0.5297 - val_accuracy: 0.7412\n",
            "Epoch 48/100\n",
            "313/313 [==============================] - 12s 37ms/step - loss: 0.5043 - accuracy: 0.7634 - val_loss: 0.5301 - val_accuracy: 0.7382\n",
            "Epoch 49/100\n",
            "313/313 [==============================] - 10s 31ms/step - loss: 0.5029 - accuracy: 0.7650 - val_loss: 0.5287 - val_accuracy: 0.7412\n",
            "Epoch 50/100\n",
            "313/313 [==============================] - 9s 29ms/step - loss: 0.5021 - accuracy: 0.7653 - val_loss: 0.5299 - val_accuracy: 0.7386\n",
            "Epoch 51/100\n",
            "313/313 [==============================] - 8s 26ms/step - loss: 0.5008 - accuracy: 0.7650 - val_loss: 0.5300 - val_accuracy: 0.7422\n",
            "Epoch 52/100\n",
            "313/313 [==============================] - 9s 29ms/step - loss: 0.5001 - accuracy: 0.7660 - val_loss: 0.5269 - val_accuracy: 0.7430\n",
            "Epoch 53/100\n",
            "313/313 [==============================] - 9s 29ms/step - loss: 0.4988 - accuracy: 0.7660 - val_loss: 0.5340 - val_accuracy: 0.7368\n",
            "Epoch 54/100\n",
            "313/313 [==============================] - 8s 25ms/step - loss: 0.4985 - accuracy: 0.7673 - val_loss: 0.5255 - val_accuracy: 0.7448\n",
            "Epoch 55/100\n",
            "313/313 [==============================] - 9s 30ms/step - loss: 0.4973 - accuracy: 0.7660 - val_loss: 0.5271 - val_accuracy: 0.7446\n",
            "Epoch 56/100\n",
            "313/313 [==============================] - 10s 30ms/step - loss: 0.4954 - accuracy: 0.7680 - val_loss: 0.5261 - val_accuracy: 0.7456\n",
            "Epoch 57/100\n",
            "313/313 [==============================] - 8s 27ms/step - loss: 0.4951 - accuracy: 0.7685 - val_loss: 0.5256 - val_accuracy: 0.7446\n"
          ]
        }
      ]
    },
    {
      "cell_type": "code",
      "source": [
        "# 2. 훈련 손실과 검증 손실 그래프 출력\n",
        "plt.plot(history.history['loss'])\n",
        "plt.plot(history.history['val_loss'])\n",
        "plt.xlabel('epoch')\n",
        "plt.ylabel('loss')\n",
        "plt.legend(['train', 'val'])\n",
        "plt.show()"
      ],
      "metadata": {
        "colab": {
          "base_uri": "https://localhost:8080/",
          "height": 449
        },
        "id": "zmZOso0YmGwj",
        "outputId": "52b26d21-f1ca-4194-b212-0d54a9be6c58"
      },
      "execution_count": 25,
      "outputs": [
        {
          "output_type": "display_data",
          "data": {
            "text/plain": [
              "<Figure size 640x480 with 1 Axes>"
            ],
            "image/png": "[encoded data removed]"
          },
          "metadata": {}
        }
      ]
    },
    {
      "cell_type": "code",
      "source": [
        "# 3. train_seq 배열과 train_oh 배열의 nbytes 속성으로 크기 확인\n",
        "# [참고] 원-핫 인코딩의 단점: 입력 데이터가 엄청 커짐\n",
        "print(train_seq.nbytes, train_oh.nbytes)"
      ],
      "metadata": {
        "colab": {
          "base_uri": "https://localhost:8080/"
        },
        "id": "vFOv-v7vmeW2",
        "outputId": "f9ccb1d6-c985-4d67-dd72-dd176849c87c"
      },
      "execution_count": 26,
      "outputs": [
        {
          "output_type": "stream",
          "name": "stdout",
          "text": [
            "8000000 2400000000\n"
          ]
        }
      ]
    },
    {
      "cell_type": "markdown",
      "source": [
        "## 단어 임베딩을 사용하기"
      ],
      "metadata": {
        "id": "dyBlCLWlnSOj"
      }
    },
    {
      "cell_type": "code",
      "source": [
        "# 1. 두 번째 순환 신경망 만들기\n",
        "model2 = keras.Sequential()\n",
        "model2.add(keras.layers.Embedding(300, 16, input_length=100))\n",
        "model2.add(keras.layers.SimpleRNN(8))\n",
        "model2.add(keras.layers.Dense(1, activation='sigmoid'))"
      ],
      "metadata": {
        "id": "kb-2cUa5nVH9"
      },
      "execution_count": 29,
      "outputs": []
    },
    {
      "cell_type": "code",
      "source": [
        "# 2. 모델 구조 출력\n",
        "model2.summary()"
      ],
      "metadata": {
        "colab": {
          "base_uri": "https://localhost:8080/"
        },
        "id": "G4CSt3i1oLog",
        "outputId": "69685599-28db-45a4-a1df-5886f14a61e2"
      },
      "execution_count": 30,
      "outputs": [
        {
          "output_type": "stream",
          "name": "stdout",
          "text": [
            "Model: \"sequential_3\"\n",
            "_________________________________________________________________\n",
            " Layer (type)                Output Shape              Param #   \n",
            "=================================================================\n",
            " embedding_1 (Embedding)     (None, 100, 16)           4800      \n",
            "                                                                 \n",
            " simple_rnn_3 (SimpleRNN)    (None, 8)                 200       \n",
            "                                                                 \n",
            " dense_3 (Dense)             (None, 1)                 9         \n",
            "                                                                 \n",
            "=================================================================\n",
            "Total params: 5009 (19.57 KB)\n",
            "Trainable params: 5009 (19.57 KB)\n",
            "Non-trainable params: 0 (0.00 Byte)\n",
            "_________________________________________________________________\n"
          ]
        }
      ]
    },
    {
      "cell_type": "code",
      "source": [
        "# 3. 모델 훈련하기\n",
        "rmsprop = keras.optimizers.RMSprop(learning_rate=1e-4)\n",
        "model2.compile(optimizer=rmsprop, loss='binary_crossentropy', metrics=['accuracy'])\n",
        "checkpoint_cb = keras.callbacks.ModelCheckpoint('best-embedding-model.h5',\n",
        "                                                save_best_only=True)\n",
        "early_stopping_cb = keras.callbacks.EarlyStopping(patience=3, restore_best_weights=True)\n",
        "history = model2.fit(train_seq, train_target, epochs=100, batch_size=64,\n",
        "                     validation_data=(val_seq, val_target),\n",
        "                     callbacks=[checkpoint_cb, early_stopping_cb])"
      ],
      "metadata": {
        "colab": {
          "base_uri": "https://localhost:8080/"
        },
        "id": "ypwFOPg5qnii",
        "outputId": "6d3d32db-20b0-4423-96d5-fc99ec699bae"
      },
      "execution_count": 32,
      "outputs": [
        {
          "output_type": "stream",
          "name": "stdout",
          "text": [
            "Epoch 1/100\n",
            "313/313 [==============================] - 10s 27ms/step - loss: 0.6960 - accuracy: 0.5078 - val_loss: 0.6942 - val_accuracy: 0.5088\n",
            "Epoch 2/100\n",
            "  7/313 [..............................] - ETA: 5s - loss: 0.6936 - accuracy: 0.5335"
          ]
        },
        {
          "output_type": "stream",
          "name": "stderr",
          "text": [
            "/usr/local/lib/python3.10/dist-packages/keras/src/engine/training.py:3103: UserWarning: You are saving your model as an HDF5 file via `model.save()`. This file format is considered legacy. We recommend using instead the native Keras format, e.g. `model.save('my_model.keras')`.\n",
            "  saving_api.save_model(\n"
          ]
        },
        {
          "output_type": "stream",
          "name": "stdout",
          "text": [
            "313/313 [==============================] - 13s 41ms/step - loss: 0.6920 - accuracy: 0.5200 - val_loss: 0.6930 - val_accuracy: 0.5066\n",
            "Epoch 3/100\n",
            "313/313 [==============================] - 15s 49ms/step - loss: 0.6893 - accuracy: 0.5389 - val_loss: 0.6916 - val_accuracy: 0.5162\n",
            "Epoch 4/100\n",
            "313/313 [==============================] - 15s 47ms/step - loss: 0.6865 - accuracy: 0.5566 - val_loss: 0.6899 - val_accuracy: 0.5276\n",
            "Epoch 5/100\n",
            "313/313 [==============================] - 7s 21ms/step - loss: 0.6825 - accuracy: 0.5724 - val_loss: 0.6858 - val_accuracy: 0.5560\n",
            "Epoch 6/100\n",
            "313/313 [==============================] - 8s 25ms/step - loss: 0.6752 - accuracy: 0.5993 - val_loss: 0.6759 - val_accuracy: 0.5958\n",
            "Epoch 7/100\n",
            "313/313 [==============================] - 7s 24ms/step - loss: 0.6623 - accuracy: 0.6340 - val_loss: 0.6630 - val_accuracy: 0.6352\n",
            "Epoch 8/100\n",
            "313/313 [==============================] - 7s 22ms/step - loss: 0.6475 - accuracy: 0.6635 - val_loss: 0.6473 - val_accuracy: 0.6654\n",
            "Epoch 9/100\n",
            "313/313 [==============================] - 8s 25ms/step - loss: 0.6333 - accuracy: 0.6862 - val_loss: 0.6333 - val_accuracy: 0.6820\n",
            "Epoch 10/100\n",
            "313/313 [==============================] - 7s 21ms/step - loss: 0.6205 - accuracy: 0.7034 - val_loss: 0.6214 - val_accuracy: 0.6970\n",
            "Epoch 11/100\n",
            "313/313 [==============================] - 8s 25ms/step - loss: 0.6089 - accuracy: 0.7129 - val_loss: 0.6131 - val_accuracy: 0.7048\n",
            "Epoch 12/100\n",
            "313/313 [==============================] - 7s 21ms/step - loss: 0.5980 - accuracy: 0.7229 - val_loss: 0.6022 - val_accuracy: 0.7138\n",
            "Epoch 13/100\n",
            "313/313 [==============================] - 8s 25ms/step - loss: 0.5885 - accuracy: 0.7275 - val_loss: 0.5968 - val_accuracy: 0.7142\n",
            "Epoch 14/100\n",
            "313/313 [==============================] - 7s 24ms/step - loss: 0.5817 - accuracy: 0.7313 - val_loss: 0.5921 - val_accuracy: 0.7168\n",
            "Epoch 15/100\n",
            "313/313 [==============================] - 7s 22ms/step - loss: 0.5755 - accuracy: 0.7332 - val_loss: 0.5850 - val_accuracy: 0.7182\n",
            "Epoch 16/100\n",
            "313/313 [==============================] - 8s 25ms/step - loss: 0.5685 - accuracy: 0.7381 - val_loss: 0.5811 - val_accuracy: 0.7138\n",
            "Epoch 17/100\n",
            "313/313 [==============================] - 7s 23ms/step - loss: 0.5637 - accuracy: 0.7369 - val_loss: 0.5765 - val_accuracy: 0.7240\n",
            "Epoch 18/100\n",
            "313/313 [==============================] - 9s 27ms/step - loss: 0.5610 - accuracy: 0.7375 - val_loss: 0.5756 - val_accuracy: 0.7226\n",
            "Epoch 19/100\n",
            "313/313 [==============================] - 9s 29ms/step - loss: 0.5576 - accuracy: 0.7370 - val_loss: 0.5732 - val_accuracy: 0.7180\n",
            "Epoch 20/100\n",
            "313/313 [==============================] - 7s 22ms/step - loss: 0.5532 - accuracy: 0.7418 - val_loss: 0.5731 - val_accuracy: 0.7156\n",
            "Epoch 21/100\n",
            "313/313 [==============================] - 8s 25ms/step - loss: 0.5519 - accuracy: 0.7397 - val_loss: 0.5717 - val_accuracy: 0.7164\n",
            "Epoch 22/100\n",
            "313/313 [==============================] - 7s 21ms/step - loss: 0.5494 - accuracy: 0.7409 - val_loss: 0.5729 - val_accuracy: 0.7110\n",
            "Epoch 23/100\n",
            "313/313 [==============================] - 8s 25ms/step - loss: 0.5472 - accuracy: 0.7423 - val_loss: 0.5755 - val_accuracy: 0.7048\n",
            "Epoch 24/100\n",
            "313/313 [==============================] - 7s 21ms/step - loss: 0.5446 - accuracy: 0.7422 - val_loss: 0.5787 - val_accuracy: 0.7202\n"
          ]
        }
      ]
    },
    {
      "cell_type": "code",
      "source": [
        "# 4. 훈련 손실과 검증 손실 그래프 출력\n",
        "plt.plot(history.history['loss'])\n",
        "plt.plot(history.history['val_loss'])\n",
        "plt.xlabel('epoch')\n",
        "plt.ylabel('loss')\n",
        "plt.legend(['train', 'val'])\n",
        "plt.show()"
      ],
      "metadata": {
        "colab": {
          "base_uri": "https://localhost:8080/",
          "height": 449
        },
        "id": "24bpBsRjrdCR",
        "outputId": "46641209-99de-47dc-8ca6-85e0bb14d40f"
      },
      "execution_count": 33,
      "outputs": [
        {
          "output_type": "display_data",
          "data": {
            "text/plain": [
              "<Figure size 640x480 with 1 Axes>"
            ],
            "image/png": "[encoded data removed]"
          },
          "metadata": {}
        }
      ]
    },
    {
      "cell_type": "markdown",
      "source": [
        "# Ch09-3 | LSTM과 GRU 셀"
      ],
      "metadata": {
        "id": "fvQoDRGBi3ZS"
      }
    },
    {
      "cell_type": "code",
      "source": [],
      "metadata": {
        "id": "5hL5Q1wHj4qZ"
      },
      "execution_count": null,
      "outputs": []
    }
  ]
}