{
  "nbformat": 4,
  "nbformat_minor": 0,
  "metadata": {
    "colab": {
      "provenance": [],
      "authorship_tag": "ABX9TyOmfy7BF7jV1qs/eCqSnjaY",
      "include_colab_link": true
    },
    "kernelspec": {
      "name": "python3",
      "display_name": "Python 3"
    },
    "language_info": {
      "name": "python"
    }
  },
  "cells": [
    {
      "cell_type": "markdown",
      "metadata": {
        "id": "view-in-github",
        "colab_type": "text"
      },
      "source": [
        "<a href=\"https://colab.research.google.com/github/Sangyeonglee353/ai-hongong/blob/main/Chapter_09_%ED%85%8D%EC%8A%A4%ED%8A%B8%EB%A5%BC_%EC%9C%84%ED%95%9C_%EC%9D%B8%EA%B3%B5_%EC%8B%A0%EA%B2%BD%EB%A7%9D.ipynb\" target=\"_parent\"><img src=\"https://colab.research.google.com/assets/colab-badge.svg\" alt=\"Open In Colab\"/></a>"
      ]
    },
    {
      "cell_type": "markdown",
      "source": [
        "# Ch09-1 | 순차 데이터와 순환 신경망"
      ],
      "metadata": {
        "id": "5rzl1ubOie92"
      }
    },
    {
      "cell_type": "code",
      "source": [
        "##"
      ],
      "metadata": {
        "id": "sNu8LaNQj7w_"
      },
      "execution_count": null,
      "outputs": []
    },
    {
      "cell_type": "markdown",
      "source": [
        "# Ch09-2 | 순환 신경망으로 IMDB 리뷰 분류하기"
      ],
      "metadata": {
        "id": "jMLvXiIXizRB"
      }
    },
    {
      "cell_type": "markdown",
      "source": [
        "# Ch09-3 | LSTM과 GRU 셀"
      ],
      "metadata": {
        "id": "fvQoDRGBi3ZS"
      }
    },
    {
      "cell_type": "code",
      "source": [],
      "metadata": {
        "id": "5hL5Q1wHj4qZ"
      },
      "execution_count": null,
      "outputs": []
    }
  ]
}