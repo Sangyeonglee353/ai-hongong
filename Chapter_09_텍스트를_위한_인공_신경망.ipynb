{
  "nbformat": 4,
  "nbformat_minor": 0,
  "metadata": {
    "colab": {
      "provenance": [],
      "authorship_tag": "ABX9TyPGZY+Fd6l4EyrtWxSRazfp",
      "include_colab_link": true
    },
    "kernelspec": {
      "name": "python3",
      "display_name": "Python 3"
    },
    "language_info": {
      "name": "python"
    }
  },
  "cells": [
    {
      "cell_type": "markdown",
      "metadata": {
        "id": "view-in-github",
        "colab_type": "text"
      },
      "source": [
        "<a href=\"https://colab.research.google.com/github/Sangyeonglee353/ai-hongong/blob/main/Chapter_09_%ED%85%8D%EC%8A%A4%ED%8A%B8%EB%A5%BC_%EC%9C%84%ED%95%9C_%EC%9D%B8%EA%B3%B5_%EC%8B%A0%EA%B2%BD%EB%A7%9D.ipynb\" target=\"_parent\"><img src=\"https://colab.research.google.com/assets/colab-badge.svg\" alt=\"Open In Colab\"/></a>"
      ]
    },
    {
      "cell_type": "markdown",
      "source": [
        "# Ch09-1 | 순차 데이터와 순환 신경망"
      ],
      "metadata": {
        "id": "5rzl1ubOie92"
      }
    },
    {
      "cell_type": "markdown",
      "source": [
        "# Ch09-2 | 순환 신경망으로 IMDB 리뷰 분류하기"
      ],
      "metadata": {
        "id": "jMLvXiIXizRB"
      }
    },
    {
      "cell_type": "markdown",
      "source": [
        "## IMDB 리뷰 데이터셋"
      ],
      "metadata": {
        "id": "0L3yuPPXYFta"
      }
    },
    {
      "cell_type": "code",
      "source": [
        "# 1. IMDB 리뷰 데이터셋 가져오기\n",
        "# [참고] imdb.load_data: 전체 어휘 사전에 있는 단어를 등장 순서대로 나열한 다음 가장 많이 등장한 {num_words} 단어 선택\n",
        "from tensorflow.keras.datasets import imdb\n",
        "(train_input, train_target), (test_input, test_target) = imdb.load_data(num_words=300)"
      ],
      "metadata": {
        "colab": {
          "base_uri": "https://localhost:8080/"
        },
        "id": "rOBmHDaaYKLp",
        "outputId": "5e691c7a-0203-442a-da94-1438eaf83bbb"
      },
      "execution_count": 1,
      "outputs": [
        {
          "output_type": "stream",
          "name": "stdout",
          "text": [
            "Downloading data from https://storage.googleapis.com/tensorflow/tf-keras-datasets/imdb.npz\n",
            "17464789/17464789 [==============================] - 0s 0us/step\n"
          ]
        }
      ]
    },
    {
      "cell_type": "code",
      "source": [
        "# 2. 훈련 세트와 테스트 세트 크기 확인\n",
        "## 리뷰 텍스트 길이가 제각각 -> 별도의 파이썬 리스트로 넘파이 배열로 보관 -> 메모리 효율적 사용\n",
        "print(train_input.shape, test_input.shape)"
      ],
      "metadata": {
        "colab": {
          "base_uri": "https://localhost:8080/"
        },
        "id": "4La-NRjtYZXo",
        "outputId": "ecc79fef-e16c-4d0f-e9a0-e8a9c2688ff6"
      },
      "execution_count": 2,
      "outputs": [
        {
          "output_type": "stream",
          "name": "stdout",
          "text": [
            "(25000,) (25000,)\n"
          ]
        }
      ]
    },
    {
      "cell_type": "code",
      "source": [
        "# 3-1. 첫 번째 리뷰 길이 확인\n",
        "## [참고] 넘파이 배열: 정수나 실수 외에도 파이썬 객체로 담을 수 있음.\n",
        "print(len(train_input[0]))"
      ],
      "metadata": {
        "colab": {
          "base_uri": "https://localhost:8080/"
        },
        "id": "6oB0tuK2Yydg",
        "outputId": "eccb7b9f-68a1-4716-c159-cd5c087265cb"
      },
      "execution_count": 4,
      "outputs": [
        {
          "output_type": "stream",
          "name": "stdout",
          "text": [
            "218\n"
          ]
        }
      ]
    },
    {
      "cell_type": "code",
      "source": [
        "# 3-2. 두 번째 리뷰 길이 확인\n",
        "print(len(train_input[1]))"
      ],
      "metadata": {
        "colab": {
          "base_uri": "https://localhost:8080/"
        },
        "id": "UEj-wITzY_Xy",
        "outputId": "ac856608-86af-4fbc-c66c-6a64ebb57ffe"
      },
      "execution_count": 5,
      "outputs": [
        {
          "output_type": "stream",
          "name": "stdout",
          "text": [
            "189\n"
          ]
        }
      ]
    },
    {
      "cell_type": "code",
      "source": [
        "# 3-3. 첫 번째 리뷰에 담긴 내용 출력\n",
        "print(train_input[0])"
      ],
      "metadata": {
        "colab": {
          "base_uri": "https://localhost:8080/"
        },
        "id": "8SPf3f0cZKiF",
        "outputId": "7b142d18-1f21-4dc2-a0ad-1f3a2aa2535a"
      },
      "execution_count": 6,
      "outputs": [
        {
          "output_type": "stream",
          "name": "stdout",
          "text": [
            "[1, 14, 22, 16, 43, 2, 2, 2, 2, 65, 2, 2, 66, 2, 4, 173, 36, 256, 5, 25, 100, 43, 2, 112, 50, 2, 2, 9, 35, 2, 284, 5, 150, 4, 172, 112, 167, 2, 2, 2, 39, 4, 172, 2, 2, 17, 2, 38, 13, 2, 4, 192, 50, 16, 6, 147, 2, 19, 14, 22, 4, 2, 2, 2, 4, 22, 71, 87, 12, 16, 43, 2, 38, 76, 15, 13, 2, 4, 22, 17, 2, 17, 12, 16, 2, 18, 2, 5, 62, 2, 12, 8, 2, 8, 106, 5, 4, 2, 2, 16, 2, 66, 2, 33, 4, 130, 12, 16, 38, 2, 5, 25, 124, 51, 36, 135, 48, 25, 2, 33, 6, 22, 12, 215, 28, 77, 52, 5, 14, 2, 16, 82, 2, 8, 4, 107, 117, 2, 15, 256, 4, 2, 7, 2, 5, 2, 36, 71, 43, 2, 2, 26, 2, 2, 46, 7, 4, 2, 2, 13, 104, 88, 4, 2, 15, 297, 98, 32, 2, 56, 26, 141, 6, 194, 2, 18, 4, 226, 22, 21, 134, 2, 26, 2, 5, 144, 30, 2, 18, 51, 36, 28, 224, 92, 25, 104, 4, 226, 65, 16, 38, 2, 88, 12, 16, 283, 5, 16, 2, 113, 103, 32, 15, 16, 2, 19, 178, 32]\n"
          ]
        }
      ]
    },
    {
      "cell_type": "code",
      "source": [
        "# 4. 타깃 데이터 출력\n",
        "print(train_target[:20])"
      ],
      "metadata": {
        "colab": {
          "base_uri": "https://localhost:8080/"
        },
        "id": "1JhRAcBfZxFo",
        "outputId": "4965c249-dfa6-48c0-baa3-1fe16d41f56d"
      },
      "execution_count": 7,
      "outputs": [
        {
          "output_type": "stream",
          "name": "stdout",
          "text": [
            "[1 0 0 1 0 0 1 0 1 0 1 0 0 0 0 0 1 1 0 1]\n"
          ]
        }
      ]
    },
    {
      "cell_type": "code",
      "source": [
        "# 긍정(0), 부정(1) 판단 -> 이진분류 문제\n",
        "# 5. 훈련 세트와 검증 세트 분리(8:2)\n",
        "from sklearn.model_selection import train_test_split\n",
        "train_input, val_input, train_target, val_target = train_test_split(train_input, train_target, test_size=0.2, random_state=42)"
      ],
      "metadata": {
        "id": "mIUhhyJFZ2y1"
      },
      "execution_count": 8,
      "outputs": []
    },
    {
      "cell_type": "code",
      "source": [
        "# 6. 훈련 세트 조사\n",
        "# 6.1 리뷰의 길이 계산 for 평균 리뷰 길이, 최소 리뷰 길이, 최대 리뷰 길이 확인\n",
        "import numpy as np\n",
        "lengths = np.array([len(x) for x in train_input])\n",
        "\n",
        "# 6.2 리뷰 길이의 평균과 중간값 구하기\n",
        "print(np.mean(lengths), np.median(lengths))"
      ],
      "metadata": {
        "colab": {
          "base_uri": "https://localhost:8080/"
        },
        "id": "gAGgANA2aqph",
        "outputId": "18a5585f-e397-4edc-afb4-4412bf1d8e1d"
      },
      "execution_count": 9,
      "outputs": [
        {
          "output_type": "stream",
          "name": "stdout",
          "text": [
            "239.00925 178.0\n"
          ]
        }
      ]
    },
    {
      "cell_type": "code",
      "source": [
        "# 6.3 lengths 배열 > 히스토그램으로 표현\n",
        "## [결과 해석] 대부분 리뷰 길이 300미만, 대부분 짧으므로 100개의 단어만 사용\n",
        "## [결과 해석] 단, 100보다 작은 리뷰는 패딩(0)으로 길이를 맞춤.\n",
        "import matplotlib.pyplot as plt\n",
        "plt.hist(lengths)\n",
        "plt.xlabel('length')\n",
        "plt.ylabel('frequency')\n",
        "plt.show()"
      ],
      "metadata": {
        "colab": {
          "base_uri": "https://localhost:8080/",
          "height": 449
        },
        "id": "9gqYsXNIbfgm",
        "outputId": "dab9af16-9cdc-4333-b16f-0f12c995555c"
      },
      "execution_count": 10,
      "outputs": [
        {
          "output_type": "display_data",
          "data": {
            "text/plain": [
              "<Figure size 640x480 with 1 Axes>"
            ],
            "image/png": "[encoded data removed]"
          },
          "metadata": {}
        }
      ]
    },
    {
      "cell_type": "code",
      "source": [
        "# 7. 길이 100으로 조정\n",
        "# 7.1 길이 조정\n",
        "# [참고] pad_sequence(): 길이가 짧으면 앞부분을 0으로 패딩\n",
        "from tensorflow.keras.preprocessing.sequence import pad_sequences\n",
        "train_seq = pad_sequences(train_input, maxlen=100)\n",
        "\n",
        "# 7.2 train_seq 크기 확인\n",
        "print(train_seq.shape)"
      ],
      "metadata": {
        "colab": {
          "base_uri": "https://localhost:8080/"
        },
        "id": "lw3z2ER_cu-o",
        "outputId": "b95acd3a-0854-4902-85b2-c5fb9f77d942"
      },
      "execution_count": 11,
      "outputs": [
        {
          "output_type": "stream",
          "name": "stdout",
          "text": [
            "(20000, 100)\n"
          ]
        }
      ]
    },
    {
      "cell_type": "code",
      "source": [
        "# 7.3 첫 번째 샘플 출력\n",
        "print(train_seq[0])"
      ],
      "metadata": {
        "colab": {
          "base_uri": "https://localhost:8080/"
        },
        "id": "tE-K-627dRNu",
        "outputId": "b474b431-5a35-4f60-9872-6d851871547f"
      },
      "execution_count": 12,
      "outputs": [
        {
          "output_type": "stream",
          "name": "stdout",
          "text": [
            "[ 10   4  20   9   2   2   2   5  45   6   2   2  33 269   8   2 142   2\n",
            "   5   2  17  73  17 204   5   2  19  55   2   2  92  66 104  14  20  93\n",
            "  76   2 151  33   4  58  12 188   2 151  12 215  69 224 142  73 237   6\n",
            "   2   7   2   2 188   2 103  14  31  10  10   2   7   2   5   2  80  91\n",
            "   2  30   2  34  14  20 151  50  26 131  49   2  84  46  50  37  80  79\n",
            "   6   2  46   7  14  20  10  10   2 158]\n"
          ]
        }
      ]
    },
    {
      "cell_type": "code",
      "source": [
        "# 7.4 원본 샘플 끝 확인(잘린 부분 체크)\n",
        "## [결과 해석] 앞 부분이 짤림. 뒷 부분과 일치하므로\n",
        "print(train_input[0][-10:])"
      ],
      "metadata": {
        "colab": {
          "base_uri": "https://localhost:8080/"
        },
        "id": "fhCVW4rHdWUw",
        "outputId": "d195933f-9846-4a25-c7f5-214b1be3628d"
      },
      "execution_count": 13,
      "outputs": [
        {
          "output_type": "stream",
          "name": "stdout",
          "text": [
            "[6, 2, 46, 7, 14, 20, 10, 10, 2, 158]\n"
          ]
        }
      ]
    },
    {
      "cell_type": "code",
      "source": [
        "# 7.5 여섯 번째 샘플 출력\n",
        "print(train_seq[5])"
      ],
      "metadata": {
        "colab": {
          "base_uri": "https://localhost:8080/"
        },
        "id": "T_KsDNKxdot1",
        "outputId": "af15131c-beec-4aa9-d236-c4ca8641aa5b"
      },
      "execution_count": 14,
      "outputs": [
        {
          "output_type": "stream",
          "name": "stdout",
          "text": [
            "[  0   0   0   0   1   2 195  19  49   2   2 190   4   2   2   2 183  10\n",
            "  10  13  82  79   4   2  36  71 269   8   2  25  19  49   7   4   2   2\n",
            "   2   2   2  10  10  48  25  40   2  11   2   2  40   2   2   5   4   2\n",
            "   2  95  14 238  56 129   2  10  10  21   2  94   2   2   2   2  11 190\n",
            "  24   2   2   7  94 205   2  10  10  87   2  34  49   2   7   2   2   2\n",
            "   2   2 290   2  46  48  64  18   4   2]\n"
          ]
        }
      ]
    },
    {
      "cell_type": "code",
      "source": [
        "# 7.6 검증 세트의 길이도 100으로 조정\n",
        "val_seq = pad_sequences(val_input, maxlen=100)"
      ],
      "metadata": {
        "id": "hvGwZkVEdvsf"
      },
      "execution_count": 15,
      "outputs": []
    },
    {
      "cell_type": "markdown",
      "source": [
        "## 순환 신경망 만들기"
      ],
      "metadata": {
        "id": "T8sXGHVWd8i8"
      }
    },
    {
      "cell_type": "code",
      "source": [
        "# 1. SimpleRNN 클래스 사용\n",
        "from tensorflow import keras\n",
        "model = keras.Sequential()\n",
        "model.add(keras.layers.SimpleRNN(8, input_shape=(100, 300)))\n",
        "model.add(keras.layers.Dense(1, activation='sigmoid')) # 이진 분류이므로, 활성화 함수: sigmoid"
      ],
      "metadata": {
        "id": "HEoEdGnud_MG"
      },
      "execution_count": 17,
      "outputs": []
    },
    {
      "cell_type": "code",
      "source": [
        "# 2. 원-핫 인코딩\n",
        "# 2.1 인코딩 진행\n",
        "train_oh = keras.utils.to_categorical(train_seq)\n",
        "\n",
        "# 2.2 배열 크기 확인\n",
        "print(train_oh.shape)"
      ],
      "metadata": {
        "colab": {
          "base_uri": "https://localhost:8080/"
        },
        "id": "gFEeR2A9f5RQ",
        "outputId": "22c4d5ea-b74c-4875-92ab-8ce633e33815"
      },
      "execution_count": 18,
      "outputs": [
        {
          "output_type": "stream",
          "name": "stdout",
          "text": [
            "(20000, 100, 300)\n"
          ]
        }
      ]
    },
    {
      "cell_type": "code",
      "source": [
        "# 2.3 인코딩 결과 확인\n",
        "# 첫 번째 토큰의 10의 인코딩 확인\n",
        "print(train_oh[0][0][:12])"
      ],
      "metadata": {
        "colab": {
          "base_uri": "https://localhost:8080/"
        },
        "id": "s4_h44RSicmB",
        "outputId": "0655a281-37dd-49e2-dabb-293cb6436817"
      },
      "execution_count": 19,
      "outputs": [
        {
          "output_type": "stream",
          "name": "stdout",
          "text": [
            "[0. 0. 0. 0. 0. 0. 0. 0. 0. 0. 1. 0.]\n"
          ]
        }
      ]
    },
    {
      "cell_type": "code",
      "source": [
        "# 2.4 나머지가 모두 0인지 확인\n",
        "print(np.sum(train_oh[0][0]))"
      ],
      "metadata": {
        "colab": {
          "base_uri": "https://localhost:8080/"
        },
        "id": "ugo3kHVNisqg",
        "outputId": "ab960c1d-6b03-4b4a-ca33-0e24daa52344"
      },
      "execution_count": 20,
      "outputs": [
        {
          "output_type": "stream",
          "name": "stdout",
          "text": [
            "1.0\n"
          ]
        }
      ]
    },
    {
      "cell_type": "code",
      "source": [
        "# 2.5 검증 세트의 원-핫 인코딩\n",
        "val_oh = keras.utils.to_categorical(val_seq)"
      ],
      "metadata": {
        "id": "XCu74pkoi0Pc"
      },
      "execution_count": 21,
      "outputs": []
    },
    {
      "cell_type": "code",
      "source": [
        "# 2.6 모델 구조 출력\n",
        "model.summary()"
      ],
      "metadata": {
        "colab": {
          "base_uri": "https://localhost:8080/"
        },
        "id": "tV4QfLuZjHgQ",
        "outputId": "914ba97a-973f-49f9-96d8-746da2f79d28"
      },
      "execution_count": 22,
      "outputs": [
        {
          "output_type": "stream",
          "name": "stdout",
          "text": [
            "Model: \"sequential_1\"\n",
            "_________________________________________________________________\n",
            " Layer (type)                Output Shape              Param #   \n",
            "=================================================================\n",
            " simple_rnn_1 (SimpleRNN)    (None, 8)                 2472      \n",
            "                                                                 \n",
            " dense_1 (Dense)             (None, 1)                 9         \n",
            "                                                                 \n",
            "=================================================================\n",
            "Total params: 2481 (9.69 KB)\n",
            "Trainable params: 2481 (9.69 KB)\n",
            "Non-trainable params: 0 (0.00 Byte)\n",
            "_________________________________________________________________\n"
          ]
        }
      ]
    },
    {
      "cell_type": "markdown",
      "source": [
        "## 순환 신경망 훈련하기"
      ],
      "metadata": {
        "id": "HZL71LbmkHcM"
      }
    },
    {
      "cell_type": "code",
      "source": [
        "# 1. 모델 훈련\n",
        "rmsprop = keras.optimizers.RMSprop(learning_rate=1e-4)\n",
        "model.compile(optimizer=rmsprop, loss='binary_crossentropy', metrics=['accuracy'])\n",
        "checkpoint_cb = keras.callbacks.ModelCheckpoint('best-simplernn-model.h5', save_best_only=True)\n",
        "early_stopping_cb = keras.callbacks.EarlyStopping(patience=3, restore_best_weights=True)\n",
        "history = model.fit(train_oh, train_target, epochs=100, batch_size=64,\n",
        "                    validation_data=(val_oh, val_target),\n",
        "                    callbacks=[checkpoint_cb, early_stopping_cb])"
      ],
      "metadata": {
        "colab": {
          "base_uri": "https://localhost:8080/"
        },
        "id": "T6q4xdNIkKBo",
        "outputId": "ff9ef038-27ef-466f-950c-461a51b07f23"
      },
      "execution_count": 24,
      "outputs": [
        {
          "output_type": "stream",
          "name": "stdout",
          "text": [
            "Epoch 1/100\n",
            "313/313 [==============================] - 13s 38ms/step - loss: 0.7033 - accuracy: 0.5033 - val_loss: 0.6985 - val_accuracy: 0.5094\n",
            "Epoch 2/100\n",
            "  7/313 [..............................] - ETA: 6s - loss: 0.7053 - accuracy: 0.4911"
          ]
        },
        {
          "output_type": "stream",
          "name": "stderr",
          "text": [
            "/usr/local/lib/python3.10/dist-packages/keras/src/engine/training.py:3103: UserWarning: You are saving your model as an HDF5 file via `model.save()`. This file format is considered legacy. We recommend using instead the native Keras format, e.g. `model.save('my_model.keras')`.\n",
            "  saving_api.save_model(\n"
          ]
        },
        {
          "output_type": "stream",
          "name": "stdout",
          "text": [
            "313/313 [==============================] - 10s 32ms/step - loss: 0.6961 - accuracy: 0.5103 - val_loss: 0.6955 - val_accuracy: 0.5176\n",
            "Epoch 3/100\n",
            "313/313 [==============================] - 9s 29ms/step - loss: 0.6927 - accuracy: 0.5196 - val_loss: 0.6929 - val_accuracy: 0.5220\n",
            "Epoch 4/100\n",
            "313/313 [==============================] - 10s 31ms/step - loss: 0.6898 - accuracy: 0.5319 - val_loss: 0.6904 - val_accuracy: 0.5312\n",
            "Epoch 5/100\n",
            "313/313 [==============================] - 9s 29ms/step - loss: 0.6867 - accuracy: 0.5440 - val_loss: 0.6870 - val_accuracy: 0.5448\n",
            "Epoch 6/100\n",
            "313/313 [==============================] - 8s 27ms/step - loss: 0.6824 - accuracy: 0.5604 - val_loss: 0.6815 - val_accuracy: 0.5634\n",
            "Epoch 7/100\n",
            "313/313 [==============================] - 8s 27ms/step - loss: 0.6743 - accuracy: 0.5848 - val_loss: 0.6696 - val_accuracy: 0.6074\n",
            "Epoch 8/100\n",
            "313/313 [==============================] - 9s 28ms/step - loss: 0.6591 - accuracy: 0.6217 - val_loss: 0.6541 - val_accuracy: 0.6306\n",
            "Epoch 9/100\n",
            "313/313 [==============================] - 9s 30ms/step - loss: 0.6470 - accuracy: 0.6379 - val_loss: 0.6431 - val_accuracy: 0.6456\n",
            "Epoch 10/100\n",
            "313/313 [==============================] - 8s 25ms/step - loss: 0.6377 - accuracy: 0.6513 - val_loss: 0.6359 - val_accuracy: 0.6498\n",
            "Epoch 11/100\n",
            "313/313 [==============================] - 9s 30ms/step - loss: 0.6307 - accuracy: 0.6582 - val_loss: 0.6278 - val_accuracy: 0.6592\n",
            "Epoch 12/100\n",
            "313/313 [==============================] - 9s 29ms/step - loss: 0.6226 - accuracy: 0.6661 - val_loss: 0.6220 - val_accuracy: 0.6658\n",
            "Epoch 13/100\n",
            "313/313 [==============================] - 8s 24ms/step - loss: 0.6157 - accuracy: 0.6730 - val_loss: 0.6201 - val_accuracy: 0.6644\n",
            "Epoch 14/100\n",
            "313/313 [==============================] - 9s 29ms/step - loss: 0.6081 - accuracy: 0.6816 - val_loss: 0.6069 - val_accuracy: 0.6786\n",
            "Epoch 15/100\n",
            "313/313 [==============================] - 9s 30ms/step - loss: 0.6007 - accuracy: 0.6898 - val_loss: 0.6014 - val_accuracy: 0.6844\n",
            "Epoch 16/100\n",
            "313/313 [==============================] - 8s 25ms/step - loss: 0.5945 - accuracy: 0.6963 - val_loss: 0.5949 - val_accuracy: 0.6916\n",
            "Epoch 17/100\n",
            "313/313 [==============================] - 10s 31ms/step - loss: 0.5894 - accuracy: 0.7020 - val_loss: 0.5911 - val_accuracy: 0.6942\n",
            "Epoch 18/100\n",
            "313/313 [==============================] - 10s 30ms/step - loss: 0.5846 - accuracy: 0.7058 - val_loss: 0.5901 - val_accuracy: 0.6934\n",
            "Epoch 19/100\n",
            "313/313 [==============================] - 11s 37ms/step - loss: 0.5811 - accuracy: 0.7090 - val_loss: 0.5858 - val_accuracy: 0.6966\n",
            "Epoch 20/100\n",
            "313/313 [==============================] - 15s 47ms/step - loss: 0.5760 - accuracy: 0.7135 - val_loss: 0.5811 - val_accuracy: 0.6996\n",
            "Epoch 21/100\n",
            "313/313 [==============================] - 17s 55ms/step - loss: 0.5727 - accuracy: 0.7161 - val_loss: 0.5781 - val_accuracy: 0.7022\n",
            "Epoch 22/100\n",
            "313/313 [==============================] - 16s 53ms/step - loss: 0.5698 - accuracy: 0.7183 - val_loss: 0.5743 - val_accuracy: 0.7064\n",
            "Epoch 23/100\n",
            "313/313 [==============================] - 12s 37ms/step - loss: 0.5665 - accuracy: 0.7207 - val_loss: 0.5725 - val_accuracy: 0.7070\n",
            "Epoch 24/100\n",
            "313/313 [==============================] - 10s 31ms/step - loss: 0.5628 - accuracy: 0.7232 - val_loss: 0.5851 - val_accuracy: 0.6974\n",
            "Epoch 25/100\n",
            "313/313 [==============================] - 9s 30ms/step - loss: 0.5590 - accuracy: 0.7261 - val_loss: 0.5673 - val_accuracy: 0.7134\n",
            "Epoch 26/100\n",
            "313/313 [==============================] - 8s 27ms/step - loss: 0.5556 - accuracy: 0.7286 - val_loss: 0.5626 - val_accuracy: 0.7176\n",
            "Epoch 27/100\n",
            "313/313 [==============================] - 12s 39ms/step - loss: 0.5515 - accuracy: 0.7323 - val_loss: 0.5599 - val_accuracy: 0.7186\n",
            "Epoch 28/100\n",
            "313/313 [==============================] - 12s 37ms/step - loss: 0.5481 - accuracy: 0.7358 - val_loss: 0.5588 - val_accuracy: 0.7198\n",
            "Epoch 29/100\n",
            "313/313 [==============================] - 12s 38ms/step - loss: 0.5450 - accuracy: 0.7386 - val_loss: 0.5543 - val_accuracy: 0.7230\n",
            "Epoch 30/100\n",
            "313/313 [==============================] - 11s 35ms/step - loss: 0.5411 - accuracy: 0.7422 - val_loss: 0.5512 - val_accuracy: 0.7280\n",
            "Epoch 31/100\n",
            "313/313 [==============================] - 16s 50ms/step - loss: 0.5379 - accuracy: 0.7423 - val_loss: 0.5485 - val_accuracy: 0.7300\n",
            "Epoch 32/100\n",
            "313/313 [==============================] - 16s 51ms/step - loss: 0.5353 - accuracy: 0.7455 - val_loss: 0.5462 - val_accuracy: 0.7288\n",
            "Epoch 33/100\n",
            "313/313 [==============================] - 9s 29ms/step - loss: 0.5330 - accuracy: 0.7456 - val_loss: 0.5448 - val_accuracy: 0.7278\n",
            "Epoch 34/100\n",
            "313/313 [==============================] - 9s 30ms/step - loss: 0.5299 - accuracy: 0.7493 - val_loss: 0.5432 - val_accuracy: 0.7320\n",
            "Epoch 35/100\n",
            "313/313 [==============================] - 8s 25ms/step - loss: 0.5276 - accuracy: 0.7502 - val_loss: 0.5418 - val_accuracy: 0.7300\n",
            "Epoch 36/100\n",
            "313/313 [==============================] - 9s 30ms/step - loss: 0.5246 - accuracy: 0.7539 - val_loss: 0.5400 - val_accuracy: 0.7322\n",
            "Epoch 37/100\n",
            "313/313 [==============================] - 9s 29ms/step - loss: 0.5226 - accuracy: 0.7539 - val_loss: 0.5374 - val_accuracy: 0.7342\n",
            "Epoch 38/100\n",
            "313/313 [==============================] - 8s 27ms/step - loss: 0.5208 - accuracy: 0.7548 - val_loss: 0.5386 - val_accuracy: 0.7310\n",
            "Epoch 39/100\n",
            "313/313 [==============================] - 9s 27ms/step - loss: 0.5188 - accuracy: 0.7545 - val_loss: 0.5373 - val_accuracy: 0.7322\n",
            "Epoch 40/100\n",
            "313/313 [==============================] - 9s 30ms/step - loss: 0.5166 - accuracy: 0.7576 - val_loss: 0.5344 - val_accuracy: 0.7348\n",
            "Epoch 41/100\n",
            "313/313 [==============================] - 10s 31ms/step - loss: 0.5148 - accuracy: 0.7584 - val_loss: 0.5347 - val_accuracy: 0.7352\n",
            "Epoch 42/100\n",
            "313/313 [==============================] - 9s 30ms/step - loss: 0.5131 - accuracy: 0.7581 - val_loss: 0.5350 - val_accuracy: 0.7372\n",
            "Epoch 43/100\n",
            "313/313 [==============================] - 9s 30ms/step - loss: 0.5108 - accuracy: 0.7589 - val_loss: 0.5326 - val_accuracy: 0.7372\n",
            "Epoch 44/100\n",
            "313/313 [==============================] - 10s 30ms/step - loss: 0.5101 - accuracy: 0.7602 - val_loss: 0.5357 - val_accuracy: 0.7344\n",
            "Epoch 45/100\n",
            "313/313 [==============================] - 9s 29ms/step - loss: 0.5081 - accuracy: 0.7619 - val_loss: 0.5347 - val_accuracy: 0.7360\n",
            "Epoch 46/100\n",
            "313/313 [==============================] - 11s 34ms/step - loss: 0.5067 - accuracy: 0.7634 - val_loss: 0.5324 - val_accuracy: 0.7380\n",
            "Epoch 47/100\n",
            "313/313 [==============================] - 11s 35ms/step - loss: 0.5062 - accuracy: 0.7618 - val_loss: 0.5297 - val_accuracy: 0.7412\n",
            "Epoch 48/100\n",
            "313/313 [==============================] - 12s 37ms/step - loss: 0.5043 - accuracy: 0.7634 - val_loss: 0.5301 - val_accuracy: 0.7382\n",
            "Epoch 49/100\n",
            "313/313 [==============================] - 10s 31ms/step - loss: 0.5029 - accuracy: 0.7650 - val_loss: 0.5287 - val_accuracy: 0.7412\n",
            "Epoch 50/100\n",
            "313/313 [==============================] - 9s 29ms/step - loss: 0.5021 - accuracy: 0.7653 - val_loss: 0.5299 - val_accuracy: 0.7386\n",
            "Epoch 51/100\n",
            "313/313 [==============================] - 8s 26ms/step - loss: 0.5008 - accuracy: 0.7650 - val_loss: 0.5300 - val_accuracy: 0.7422\n",
            "Epoch 52/100\n",
            "313/313 [==============================] - 9s 29ms/step - loss: 0.5001 - accuracy: 0.7660 - val_loss: 0.5269 - val_accuracy: 0.7430\n",
            "Epoch 53/100\n",
            "313/313 [==============================] - 9s 29ms/step - loss: 0.4988 - accuracy: 0.7660 - val_loss: 0.5340 - val_accuracy: 0.7368\n",
            "Epoch 54/100\n",
            "313/313 [==============================] - 8s 25ms/step - loss: 0.4985 - accuracy: 0.7673 - val_loss: 0.5255 - val_accuracy: 0.7448\n",
            "Epoch 55/100\n",
            "313/313 [==============================] - 9s 30ms/step - loss: 0.4973 - accuracy: 0.7660 - val_loss: 0.5271 - val_accuracy: 0.7446\n",
            "Epoch 56/100\n",
            "313/313 [==============================] - 10s 30ms/step - loss: 0.4954 - accuracy: 0.7680 - val_loss: 0.5261 - val_accuracy: 0.7456\n",
            "Epoch 57/100\n",
            "313/313 [==============================] - 8s 27ms/step - loss: 0.4951 - accuracy: 0.7685 - val_loss: 0.5256 - val_accuracy: 0.7446\n"
          ]
        }
      ]
    },
    {
      "cell_type": "code",
      "source": [
        "# 2. 훈련 손실과 검증 손실 그래프 출력\n",
        "plt.plot(history.history['loss'])\n",
        "plt.plot(history.history['val_loss'])\n",
        "plt.xlabel('epoch')\n",
        "plt.ylabel('loss')\n",
        "plt.legend(['train', 'val'])\n",
        "plt.show()"
      ],
      "metadata": {
        "colab": {
          "base_uri": "https://localhost:8080/",
          "height": 449
        },
        "id": "zmZOso0YmGwj",
        "outputId": "52b26d21-f1ca-4194-b212-0d54a9be6c58"
      },
      "execution_count": 25,
      "outputs": [
        {
          "output_type": "display_data",
          "data": {
            "text/plain": [
              "<Figure size 640x480 with 1 Axes>"
            ],
            "image/png": "[encoded data removed]"
          },
          "metadata": {}
        }
      ]
    },
    {
      "cell_type": "code",
      "source": [
        "# 3. train_seq 배열과 train_oh 배열의 nbytes 속성으로 크기 확인\n",
        "# [참고] 원-핫 인코딩의 단점: 입력 데이터가 엄청 커짐\n",
        "print(train_seq.nbytes, train_oh.nbytes)"
      ],
      "metadata": {
        "colab": {
          "base_uri": "https://localhost:8080/"
        },
        "id": "vFOv-v7vmeW2",
        "outputId": "f9ccb1d6-c985-4d67-dd72-dd176849c87c"
      },
      "execution_count": 26,
      "outputs": [
        {
          "output_type": "stream",
          "name": "stdout",
          "text": [
            "8000000 2400000000\n"
          ]
        }
      ]
    },
    {
      "cell_type": "markdown",
      "source": [
        "## 단어 임베딩을 사용하기"
      ],
      "metadata": {
        "id": "dyBlCLWlnSOj"
      }
    },
    {
      "cell_type": "code",
      "source": [
        "# 1. 두 번째 순환 신경망 만들기\n",
        "model2 = keras.Sequential()\n",
        "model2.add(keras.layers.Embedding(300, 16, input_length=100))\n",
        "model2.add(keras.layers.SimpleRNN(8))\n",
        "model2.add(keras.layers.Dense(1, activation='sigmoid'))"
      ],
      "metadata": {
        "id": "kb-2cUa5nVH9"
      },
      "execution_count": 29,
      "outputs": []
    },
    {
      "cell_type": "code",
      "source": [
        "# 2. 모델 구조 출력\n",
        "model2.summary()"
      ],
      "metadata": {
        "colab": {
          "base_uri": "https://localhost:8080/"
        },
        "id": "G4CSt3i1oLog",
        "outputId": "69685599-28db-45a4-a1df-5886f14a61e2"
      },
      "execution_count": 30,
      "outputs": [
        {
          "output_type": "stream",
          "name": "stdout",
          "text": [
            "Model: \"sequential_3\"\n",
            "_________________________________________________________________\n",
            " Layer (type)                Output Shape              Param #   \n",
            "=================================================================\n",
            " embedding_1 (Embedding)     (None, 100, 16)           4800      \n",
            "                                                                 \n",
            " simple_rnn_3 (SimpleRNN)    (None, 8)                 200       \n",
            "                                                                 \n",
            " dense_3 (Dense)             (None, 1)                 9         \n",
            "                                                                 \n",
            "=================================================================\n",
            "Total params: 5009 (19.57 KB)\n",
            "Trainable params: 5009 (19.57 KB)\n",
            "Non-trainable params: 0 (0.00 Byte)\n",
            "_________________________________________________________________\n"
          ]
        }
      ]
    },
    {
      "cell_type": "code",
      "source": [
        "# 3. 모델 훈련하기\n",
        "rmsprop = keras.optimizers.RMSprop(learning_rate=1e-4)\n",
        "model2.compile(optimizer=rmsprop, loss='binary_crossentropy', metrics=['accuracy'])\n",
        "checkpoint_cb = keras.callbacks.ModelCheckpoint('best-embedding-model.h5',\n",
        "                                                save_best_only=True)\n",
        "early_stopping_cb = keras.callbacks.EarlyStopping(patience=3, restore_best_weights=True)\n",
        "history = model2.fit(train_seq, train_target, epochs=100, batch_size=64,\n",
        "                     validation_data=(val_seq, val_target),\n",
        "                     callbacks=[checkpoint_cb, early_stopping_cb])"
      ],
      "metadata": {
        "colab": {
          "base_uri": "https://localhost:8080/"
        },
        "id": "ypwFOPg5qnii",
        "outputId": "6d3d32db-20b0-4423-96d5-fc99ec699bae"
      },
      "execution_count": 32,
      "outputs": [
        {
          "output_type": "stream",
          "name": "stdout",
          "text": [
            "Epoch 1/100\n",
            "313/313 [==============================] - 10s 27ms/step - loss: 0.6960 - accuracy: 0.5078 - val_loss: 0.6942 - val_accuracy: 0.5088\n",
            "Epoch 2/100\n",
            "  7/313 [..............................] - ETA: 5s - loss: 0.6936 - accuracy: 0.5335"
          ]
        },
        {
          "output_type": "stream",
          "name": "stderr",
          "text": [
            "/usr/local/lib/python3.10/dist-packages/keras/src/engine/training.py:3103: UserWarning: You are saving your model as an HDF5 file via `model.save()`. This file format is considered legacy. We recommend using instead the native Keras format, e.g. `model.save('my_model.keras')`.\n",
            "  saving_api.save_model(\n"
          ]
        },
        {
          "output_type": "stream",
          "name": "stdout",
          "text": [
            "313/313 [==============================] - 13s 41ms/step - loss: 0.6920 - accuracy: 0.5200 - val_loss: 0.6930 - val_accuracy: 0.5066\n",
            "Epoch 3/100\n",
            "313/313 [==============================] - 15s 49ms/step - loss: 0.6893 - accuracy: 0.5389 - val_loss: 0.6916 - val_accuracy: 0.5162\n",
            "Epoch 4/100\n",
            "313/313 [==============================] - 15s 47ms/step - loss: 0.6865 - accuracy: 0.5566 - val_loss: 0.6899 - val_accuracy: 0.5276\n",
            "Epoch 5/100\n",
            "313/313 [==============================] - 7s 21ms/step - loss: 0.6825 - accuracy: 0.5724 - val_loss: 0.6858 - val_accuracy: 0.5560\n",
            "Epoch 6/100\n",
            "313/313 [==============================] - 8s 25ms/step - loss: 0.6752 - accuracy: 0.5993 - val_loss: 0.6759 - val_accuracy: 0.5958\n",
            "Epoch 7/100\n",
            "313/313 [==============================] - 7s 24ms/step - loss: 0.6623 - accuracy: 0.6340 - val_loss: 0.6630 - val_accuracy: 0.6352\n",
            "Epoch 8/100\n",
            "313/313 [==============================] - 7s 22ms/step - loss: 0.6475 - accuracy: 0.6635 - val_loss: 0.6473 - val_accuracy: 0.6654\n",
            "Epoch 9/100\n",
            "313/313 [==============================] - 8s 25ms/step - loss: 0.6333 - accuracy: 0.6862 - val_loss: 0.6333 - val_accuracy: 0.6820\n",
            "Epoch 10/100\n",
            "313/313 [==============================] - 7s 21ms/step - loss: 0.6205 - accuracy: 0.7034 - val_loss: 0.6214 - val_accuracy: 0.6970\n",
            "Epoch 11/100\n",
            "313/313 [==============================] - 8s 25ms/step - loss: 0.6089 - accuracy: 0.7129 - val_loss: 0.6131 - val_accuracy: 0.7048\n",
            "Epoch 12/100\n",
            "313/313 [==============================] - 7s 21ms/step - loss: 0.5980 - accuracy: 0.7229 - val_loss: 0.6022 - val_accuracy: 0.7138\n",
            "Epoch 13/100\n",
            "313/313 [==============================] - 8s 25ms/step - loss: 0.5885 - accuracy: 0.7275 - val_loss: 0.5968 - val_accuracy: 0.7142\n",
            "Epoch 14/100\n",
            "313/313 [==============================] - 7s 24ms/step - loss: 0.5817 - accuracy: 0.7313 - val_loss: 0.5921 - val_accuracy: 0.7168\n",
            "Epoch 15/100\n",
            "313/313 [==============================] - 7s 22ms/step - loss: 0.5755 - accuracy: 0.7332 - val_loss: 0.5850 - val_accuracy: 0.7182\n",
            "Epoch 16/100\n",
            "313/313 [==============================] - 8s 25ms/step - loss: 0.5685 - accuracy: 0.7381 - val_loss: 0.5811 - val_accuracy: 0.7138\n",
            "Epoch 17/100\n",
            "313/313 [==============================] - 7s 23ms/step - loss: 0.5637 - accuracy: 0.7369 - val_loss: 0.5765 - val_accuracy: 0.7240\n",
            "Epoch 18/100\n",
            "313/313 [==============================] - 9s 27ms/step - loss: 0.5610 - accuracy: 0.7375 - val_loss: 0.5756 - val_accuracy: 0.7226\n",
            "Epoch 19/100\n",
            "313/313 [==============================] - 9s 29ms/step - loss: 0.5576 - accuracy: 0.7370 - val_loss: 0.5732 - val_accuracy: 0.7180\n",
            "Epoch 20/100\n",
            "313/313 [==============================] - 7s 22ms/step - loss: 0.5532 - accuracy: 0.7418 - val_loss: 0.5731 - val_accuracy: 0.7156\n",
            "Epoch 21/100\n",
            "313/313 [==============================] - 8s 25ms/step - loss: 0.5519 - accuracy: 0.7397 - val_loss: 0.5717 - val_accuracy: 0.7164\n",
            "Epoch 22/100\n",
            "313/313 [==============================] - 7s 21ms/step - loss: 0.5494 - accuracy: 0.7409 - val_loss: 0.5729 - val_accuracy: 0.7110\n",
            "Epoch 23/100\n",
            "313/313 [==============================] - 8s 25ms/step - loss: 0.5472 - accuracy: 0.7423 - val_loss: 0.5755 - val_accuracy: 0.7048\n",
            "Epoch 24/100\n",
            "313/313 [==============================] - 7s 21ms/step - loss: 0.5446 - accuracy: 0.7422 - val_loss: 0.5787 - val_accuracy: 0.7202\n"
          ]
        }
      ]
    },
    {
      "cell_type": "code",
      "source": [
        "# 4. 훈련 손실과 검증 손실 그래프 출력\n",
        "plt.plot(history.history['loss'])\n",
        "plt.plot(history.history['val_loss'])\n",
        "plt.xlabel('epoch')\n",
        "plt.ylabel('loss')\n",
        "plt.legend(['train', 'val'])\n",
        "plt.show()"
      ],
      "metadata": {
        "colab": {
          "base_uri": "https://localhost:8080/",
          "height": 449
        },
        "id": "24bpBsRjrdCR",
        "outputId": "46641209-99de-47dc-8ca6-85e0bb14d40f"
      },
      "execution_count": 33,
      "outputs": [
        {
          "output_type": "display_data",
          "data": {
            "text/plain": [
              "<Figure size 640x480 with 1 Axes>"
            ],
            "image/png": "[encoded data removed]"
          },
          "metadata": {}
        }
      ]
    },
    {
      "cell_type": "markdown",
      "source": [
        "# Ch09-3 | LSTM과 GRU 셀"
      ],
      "metadata": {
        "id": "fvQoDRGBi3ZS"
      }
    },
    {
      "cell_type": "markdown",
      "source": [
        "## LSTM 신경망 훈련하기"
      ],
      "metadata": {
        "id": "5hL5Q1wHj4qZ"
      }
    },
    {
      "cell_type": "code",
      "source": [
        "# 1. IMDB 리뷰 데이터 로드 및 훈련 세트와 검증 세트로 나누기\n",
        "from tensorflow.keras.datasets import imdb\n",
        "from sklearn.model_selection import train_test_split\n",
        "(train_input, train_target), (test_input, test_target) = imdb.load_data(num_words=500)\n",
        "train_input, val_input, train_target, val_target = train_test_split(\n",
        "    train_input, train_target, test_size=0.2, random_state=42)"
      ],
      "metadata": {
        "id": "kT8KmV-iKver"
      },
      "execution_count": 35,
      "outputs": []
    },
    {
      "cell_type": "code",
      "source": [
        "# 2. 샘플 길이: 100으로 조정 및 패딩 추가\n",
        "from tensorflow.keras.preprocessing.sequence import pad_sequences\n",
        "train_seq = pad_sequences(train_input, maxlen=100)\n",
        "val_seq = pad_sequences(val_input, maxlen=100)"
      ],
      "metadata": {
        "id": "MfvdhupnLOV-"
      },
      "execution_count": 36,
      "outputs": []
    },
    {
      "cell_type": "code",
      "source": [
        "# 3. LSTM 셀을 사용한 순환층 만들기\n",
        "from tensorflow import keras\n",
        "model = keras.Sequential()\n",
        "model.add(keras.layers.Embedding(500, 16, input_length=100))\n",
        "model.add(keras.layers.LSTM(8))\n",
        "model.add(keras.layers.Dense(1, activation='sigmoid'))"
      ],
      "metadata": {
        "id": "mT9-f37rLh5S"
      },
      "execution_count": 37,
      "outputs": []
    },
    {
      "cell_type": "code",
      "source": [
        "# 4. 모델 구조 확인\n",
        "model.summary()"
      ],
      "metadata": {
        "colab": {
          "base_uri": "https://localhost:8080/"
        },
        "id": "nsCxnjK7Lzov",
        "outputId": "d34dc146-61b9-43bf-d1c2-7b1778e4426b"
      },
      "execution_count": 38,
      "outputs": [
        {
          "output_type": "stream",
          "name": "stdout",
          "text": [
            "Model: \"sequential_4\"\n",
            "_________________________________________________________________\n",
            " Layer (type)                Output Shape              Param #   \n",
            "=================================================================\n",
            " embedding_2 (Embedding)     (None, 100, 16)           8000      \n",
            "                                                                 \n",
            " lstm (LSTM)                 (None, 8)                 800       \n",
            "                                                                 \n",
            " dense_4 (Dense)             (None, 1)                 9         \n",
            "                                                                 \n",
            "=================================================================\n",
            "Total params: 8809 (34.41 KB)\n",
            "Trainable params: 8809 (34.41 KB)\n",
            "Non-trainable params: 0 (0.00 Byte)\n",
            "_________________________________________________________________\n"
          ]
        }
      ]
    },
    {
      "cell_type": "code",
      "source": [
        "# 5. 모델 컴파일 & 훈련\n",
        "rmsprop = keras.optimizers.RMSprop(learning_rate=1e-4)\n",
        "model.compile(optimizer=rmsprop, loss='binary_crossentropy', metrics=['accuracy'])\n",
        "checkpoint_cb = keras.callbacks.ModelCheckpoint('best-lstm-model.h5', save_best_only=True)\n",
        "early_stopping_cb = keras.callbacks.EarlyStopping(patience=3, restore_best_weights=True)\n",
        "history = model.fit(train_seq, train_target, epochs=100, batch_size=64,\n",
        "                    validation_data=(val_seq, val_target),\n",
        "                    callbacks=[checkpoint_cb, early_stopping_cb])"
      ],
      "metadata": {
        "colab": {
          "base_uri": "https://localhost:8080/"
        },
        "id": "KlJ8LXUnL4F_",
        "outputId": "01faf6c2-dd64-4175-c74a-2b8880d70d2e"
      },
      "execution_count": 39,
      "outputs": [
        {
          "output_type": "stream",
          "name": "stdout",
          "text": [
            "Epoch 1/100\n",
            "313/313 [==============================] - 18s 49ms/step - loss: 0.6920 - accuracy: 0.5454 - val_loss: 0.6906 - val_accuracy: 0.5886\n",
            "Epoch 2/100\n",
            "  2/313 [..............................] - ETA: 20s - loss: 0.6915 - accuracy: 0.5547"
          ]
        },
        {
          "output_type": "stream",
          "name": "stderr",
          "text": [
            "/usr/local/lib/python3.10/dist-packages/keras/src/engine/training.py:3103: UserWarning: You are saving your model as an HDF5 file via `model.save()`. This file format is considered legacy. We recommend using instead the native Keras format, e.g. `model.save('my_model.keras')`.\n",
            "  saving_api.save_model(\n"
          ]
        },
        {
          "output_type": "stream",
          "name": "stdout",
          "text": [
            "313/313 [==============================] - 20s 64ms/step - loss: 0.6892 - accuracy: 0.6010 - val_loss: 0.6864 - val_accuracy: 0.6326\n",
            "Epoch 3/100\n",
            "313/313 [==============================] - 19s 59ms/step - loss: 0.6786 - accuracy: 0.6557 - val_loss: 0.6635 - val_accuracy: 0.6796\n",
            "Epoch 4/100\n",
            "313/313 [==============================] - 22s 71ms/step - loss: 0.6252 - accuracy: 0.6956 - val_loss: 0.6003 - val_accuracy: 0.6994\n",
            "Epoch 5/100\n",
            "313/313 [==============================] - 22s 69ms/step - loss: 0.5871 - accuracy: 0.7134 - val_loss: 0.5769 - val_accuracy: 0.7212\n",
            "Epoch 6/100\n",
            "313/313 [==============================] - 10s 33ms/step - loss: 0.5635 - accuracy: 0.7344 - val_loss: 0.5572 - val_accuracy: 0.7308\n",
            "Epoch 7/100\n",
            "313/313 [==============================] - 11s 36ms/step - loss: 0.5429 - accuracy: 0.7501 - val_loss: 0.5379 - val_accuracy: 0.7458\n",
            "Epoch 8/100\n",
            "313/313 [==============================] - 11s 36ms/step - loss: 0.5241 - accuracy: 0.7631 - val_loss: 0.5194 - val_accuracy: 0.7634\n",
            "Epoch 9/100\n",
            "313/313 [==============================] - 12s 38ms/step - loss: 0.5069 - accuracy: 0.7735 - val_loss: 0.5046 - val_accuracy: 0.7680\n",
            "Epoch 10/100\n",
            "313/313 [==============================] - 11s 36ms/step - loss: 0.4913 - accuracy: 0.7799 - val_loss: 0.4910 - val_accuracy: 0.7790\n",
            "Epoch 11/100\n",
            "313/313 [==============================] - 11s 36ms/step - loss: 0.4775 - accuracy: 0.7884 - val_loss: 0.4829 - val_accuracy: 0.7776\n",
            "Epoch 12/100\n",
            "313/313 [==============================] - 11s 36ms/step - loss: 0.4657 - accuracy: 0.7947 - val_loss: 0.4702 - val_accuracy: 0.7868\n",
            "Epoch 13/100\n",
            "313/313 [==============================] - 13s 41ms/step - loss: 0.4565 - accuracy: 0.7970 - val_loss: 0.4623 - val_accuracy: 0.7922\n",
            "Epoch 14/100\n",
            "313/313 [==============================] - 12s 38ms/step - loss: 0.4487 - accuracy: 0.8004 - val_loss: 0.4574 - val_accuracy: 0.7914\n",
            "Epoch 15/100\n",
            "313/313 [==============================] - 11s 36ms/step - loss: 0.4419 - accuracy: 0.8047 - val_loss: 0.4516 - val_accuracy: 0.7954\n",
            "Epoch 16/100\n",
            "313/313 [==============================] - 11s 35ms/step - loss: 0.4370 - accuracy: 0.8065 - val_loss: 0.4484 - val_accuracy: 0.7966\n",
            "Epoch 17/100\n",
            "313/313 [==============================] - 10s 33ms/step - loss: 0.4328 - accuracy: 0.8063 - val_loss: 0.4457 - val_accuracy: 0.7962\n",
            "Epoch 18/100\n",
            "313/313 [==============================] - 11s 37ms/step - loss: 0.4292 - accuracy: 0.8090 - val_loss: 0.4439 - val_accuracy: 0.7978\n",
            "Epoch 19/100\n",
            "313/313 [==============================] - 12s 38ms/step - loss: 0.4260 - accuracy: 0.8080 - val_loss: 0.4436 - val_accuracy: 0.7976\n",
            "Epoch 20/100\n",
            "313/313 [==============================] - 12s 37ms/step - loss: 0.4238 - accuracy: 0.8100 - val_loss: 0.4431 - val_accuracy: 0.7948\n",
            "Epoch 21/100\n",
            "313/313 [==============================] - 11s 36ms/step - loss: 0.4217 - accuracy: 0.8109 - val_loss: 0.4390 - val_accuracy: 0.7966\n",
            "Epoch 22/100\n",
            "313/313 [==============================] - 14s 43ms/step - loss: 0.4196 - accuracy: 0.8113 - val_loss: 0.4392 - val_accuracy: 0.7970\n",
            "Epoch 23/100\n",
            "313/313 [==============================] - 12s 37ms/step - loss: 0.4180 - accuracy: 0.8110 - val_loss: 0.4393 - val_accuracy: 0.8012\n",
            "Epoch 24/100\n",
            "313/313 [==============================] - 11s 37ms/step - loss: 0.4164 - accuracy: 0.8115 - val_loss: 0.4387 - val_accuracy: 0.8020\n",
            "Epoch 25/100\n",
            "313/313 [==============================] - 12s 37ms/step - loss: 0.4151 - accuracy: 0.8117 - val_loss: 0.4364 - val_accuracy: 0.7966\n",
            "Epoch 26/100\n",
            "313/313 [==============================] - 14s 45ms/step - loss: 0.4140 - accuracy: 0.8109 - val_loss: 0.4380 - val_accuracy: 0.7938\n",
            "Epoch 27/100\n",
            "313/313 [==============================] - 12s 37ms/step - loss: 0.4127 - accuracy: 0.8114 - val_loss: 0.4344 - val_accuracy: 0.8002\n",
            "Epoch 28/100\n",
            "313/313 [==============================] - 12s 37ms/step - loss: 0.4125 - accuracy: 0.8122 - val_loss: 0.4337 - val_accuracy: 0.7996\n",
            "Epoch 29/100\n",
            "313/313 [==============================] - 11s 36ms/step - loss: 0.4117 - accuracy: 0.8121 - val_loss: 0.4338 - val_accuracy: 0.7978\n",
            "Epoch 30/100\n",
            "313/313 [==============================] - 11s 34ms/step - loss: 0.4108 - accuracy: 0.8128 - val_loss: 0.4330 - val_accuracy: 0.7986\n",
            "Epoch 31/100\n",
            "313/313 [==============================] - 11s 36ms/step - loss: 0.4103 - accuracy: 0.8128 - val_loss: 0.4326 - val_accuracy: 0.7998\n",
            "Epoch 32/100\n",
            "313/313 [==============================] - 11s 36ms/step - loss: 0.4094 - accuracy: 0.8130 - val_loss: 0.4326 - val_accuracy: 0.8006\n",
            "Epoch 33/100\n",
            "313/313 [==============================] - 12s 38ms/step - loss: 0.4089 - accuracy: 0.8131 - val_loss: 0.4336 - val_accuracy: 0.8000\n",
            "Epoch 34/100\n",
            "313/313 [==============================] - 12s 38ms/step - loss: 0.4085 - accuracy: 0.8138 - val_loss: 0.4333 - val_accuracy: 0.8012\n"
          ]
        }
      ]
    },
    {
      "cell_type": "code",
      "source": [
        "# 6. 훈련 손실과 검증 손실 그래프 출력\n",
        "# [결과 해석] 기본 순환층 보다 LSTM이 과대적합을 억제하면서 훈련을 잘 수행\n",
        "import matplotlib.pyplot as plt\n",
        "plt.plot(history.history['loss'])\n",
        "plt.plot(history.history['val_loss'])\n",
        "plt.xlabel('epoch')\n",
        "plt.ylabel('loss')\n",
        "plt.legend(['train', 'val'])\n",
        "plt.show()"
      ],
      "metadata": {
        "colab": {
          "base_uri": "https://localhost:8080/",
          "height": 449
        },
        "id": "cfb_45lxMwHD",
        "outputId": "b0072fb0-c508-4e12-c0d9-395048d5345d"
      },
      "execution_count": 40,
      "outputs": [
        {
          "output_type": "display_data",
          "data": {
            "text/plain": [
              "<Figure size 640x480 with 1 Axes>"
            ],
            "image/png": "[encoded data removed]"
          },
          "metadata": {}
        }
      ]
    },
    {
      "cell_type": "markdown",
      "source": [
        "## 순환층에 드롭아웃 적용하기"
      ],
      "metadata": {
        "id": "bA7sYUDSO4XD"
      }
    },
    {
      "cell_type": "code",
      "source": [
        "# 1. 드롭 아웃 적용 모델 생성\n",
        "# [참고] 순환층은 자체적으로 드롭아웃 기능 제공\n",
        "# [참고] dropout 매개변수: 셀의 입력에 드롭 아웃 / recurrent_dropout: 순환되는 은닉 상태에 드롭 아웃\n",
        "model2 = keras.Sequential()\n",
        "model2.add(keras.layers.Embedding(500, 16, input_length=100))\n",
        "model2.add(keras.layers.LSTM(8, dropout=0.3))\n",
        "model2.add(keras.layers.Dense(1, activation='sigmoid'))"
      ],
      "metadata": {
        "id": "kki9sft1Pz-o"
      },
      "execution_count": 41,
      "outputs": []
    },
    {
      "cell_type": "code",
      "source": [
        "# 2. 모델 컴파일 & 훈련\n",
        "rmsprop = keras.optimizers.RMSprop(learning_rate=1e-4)\n",
        "model2.compile(optimizer=rmsprop, loss='binary_crossentropy', metrics=['accuracy'])\n",
        "checkpoint_cb = keras.callbacks.ModelCheckpoint('best-dropout-model.h5', save_best_only=True)\n",
        "early_stopping_cb = keras.callbacks.EarlyStopping(patience=3, restore_best_weights=True)\n",
        "history = model2.fit(train_seq, train_target, epochs=100, batch_size=64,\n",
        "                     validation_data=(val_seq, val_target),\n",
        "                     callbacks=[checkpoint_cb, early_stopping_cb])"
      ],
      "metadata": {
        "colab": {
          "base_uri": "https://localhost:8080/"
        },
        "id": "8aHLQKGEQu27",
        "outputId": "2ff1eda6-4f30-4392-d4d4-701d409e665e"
      },
      "execution_count": 42,
      "outputs": [
        {
          "output_type": "stream",
          "name": "stdout",
          "text": [
            "Epoch 1/100\n",
            "313/313 [==============================] - 17s 42ms/step - loss: 0.6926 - accuracy: 0.5415 - val_loss: 0.6921 - val_accuracy: 0.5464\n",
            "Epoch 2/100\n",
            "  3/313 [..............................] - ETA: 10s - loss: 0.6922 - accuracy: 0.5521"
          ]
        },
        {
          "output_type": "stream",
          "name": "stderr",
          "text": [
            "/usr/local/lib/python3.10/dist-packages/keras/src/engine/training.py:3103: UserWarning: You are saving your model as an HDF5 file via `model.save()`. This file format is considered legacy. We recommend using instead the native Keras format, e.g. `model.save('my_model.keras')`.\n",
            "  saving_api.save_model(\n"
          ]
        },
        {
          "output_type": "stream",
          "name": "stdout",
          "text": [
            "313/313 [==============================] - 13s 41ms/step - loss: 0.6912 - accuracy: 0.5630 - val_loss: 0.6903 - val_accuracy: 0.6114\n",
            "Epoch 3/100\n",
            "313/313 [==============================] - 12s 40ms/step - loss: 0.6882 - accuracy: 0.6198 - val_loss: 0.6856 - val_accuracy: 0.6568\n",
            "Epoch 4/100\n",
            "313/313 [==============================] - 12s 39ms/step - loss: 0.6775 - accuracy: 0.6547 - val_loss: 0.6624 - val_accuracy: 0.6590\n",
            "Epoch 5/100\n",
            "313/313 [==============================] - 16s 50ms/step - loss: 0.6300 - accuracy: 0.6958 - val_loss: 0.6131 - val_accuracy: 0.7162\n",
            "Epoch 6/100\n",
            "313/313 [==============================] - 24s 78ms/step - loss: 0.6022 - accuracy: 0.7178 - val_loss: 0.5937 - val_accuracy: 0.7256\n",
            "Epoch 7/100\n",
            "313/313 [==============================] - 14s 44ms/step - loss: 0.5852 - accuracy: 0.7298 - val_loss: 0.5770 - val_accuracy: 0.7404\n",
            "Epoch 8/100\n",
            "313/313 [==============================] - 12s 39ms/step - loss: 0.5685 - accuracy: 0.7402 - val_loss: 0.5621 - val_accuracy: 0.7482\n",
            "Epoch 9/100\n",
            "313/313 [==============================] - 20s 65ms/step - loss: 0.5533 - accuracy: 0.7473 - val_loss: 0.5468 - val_accuracy: 0.7558\n",
            "Epoch 10/100\n",
            "313/313 [==============================] - 14s 44ms/step - loss: 0.5387 - accuracy: 0.7580 - val_loss: 0.5324 - val_accuracy: 0.7580\n",
            "Epoch 11/100\n",
            "313/313 [==============================] - 19s 60ms/step - loss: 0.5237 - accuracy: 0.7637 - val_loss: 0.5180 - val_accuracy: 0.7668\n",
            "Epoch 12/100\n",
            "313/313 [==============================] - 13s 40ms/step - loss: 0.5100 - accuracy: 0.7693 - val_loss: 0.5045 - val_accuracy: 0.7720\n",
            "Epoch 13/100\n",
            "313/313 [==============================] - 14s 45ms/step - loss: 0.4955 - accuracy: 0.7773 - val_loss: 0.4909 - val_accuracy: 0.7806\n",
            "Epoch 14/100\n",
            "313/313 [==============================] - 13s 43ms/step - loss: 0.4824 - accuracy: 0.7826 - val_loss: 0.4789 - val_accuracy: 0.7846\n",
            "Epoch 15/100\n",
            "313/313 [==============================] - 13s 40ms/step - loss: 0.4707 - accuracy: 0.7887 - val_loss: 0.4696 - val_accuracy: 0.7858\n",
            "Epoch 16/100\n",
            "313/313 [==============================] - 13s 40ms/step - loss: 0.4627 - accuracy: 0.7926 - val_loss: 0.4614 - val_accuracy: 0.7920\n",
            "Epoch 17/100\n",
            "313/313 [==============================] - 13s 40ms/step - loss: 0.4543 - accuracy: 0.7948 - val_loss: 0.4551 - val_accuracy: 0.7928\n",
            "Epoch 18/100\n",
            "313/313 [==============================] - 13s 40ms/step - loss: 0.4486 - accuracy: 0.7981 - val_loss: 0.4508 - val_accuracy: 0.7944\n",
            "Epoch 19/100\n",
            "313/313 [==============================] - 13s 41ms/step - loss: 0.4439 - accuracy: 0.7986 - val_loss: 0.4473 - val_accuracy: 0.7950\n",
            "Epoch 20/100\n",
            "313/313 [==============================] - 13s 40ms/step - loss: 0.4406 - accuracy: 0.8000 - val_loss: 0.4444 - val_accuracy: 0.7968\n",
            "Epoch 21/100\n",
            "313/313 [==============================] - 13s 41ms/step - loss: 0.4358 - accuracy: 0.8018 - val_loss: 0.4420 - val_accuracy: 0.7962\n",
            "Epoch 22/100\n",
            "313/313 [==============================] - 13s 41ms/step - loss: 0.4345 - accuracy: 0.8043 - val_loss: 0.4408 - val_accuracy: 0.8002\n",
            "Epoch 23/100\n",
            "313/313 [==============================] - 13s 40ms/step - loss: 0.4317 - accuracy: 0.8048 - val_loss: 0.4398 - val_accuracy: 0.7938\n",
            "Epoch 24/100\n",
            "313/313 [==============================] - 13s 41ms/step - loss: 0.4299 - accuracy: 0.8050 - val_loss: 0.4383 - val_accuracy: 0.8000\n",
            "Epoch 25/100\n",
            "313/313 [==============================] - 13s 41ms/step - loss: 0.4279 - accuracy: 0.8051 - val_loss: 0.4371 - val_accuracy: 0.8024\n",
            "Epoch 26/100\n",
            "313/313 [==============================] - 13s 41ms/step - loss: 0.4263 - accuracy: 0.8080 - val_loss: 0.4368 - val_accuracy: 0.8036\n",
            "Epoch 27/100\n",
            "313/313 [==============================] - 14s 44ms/step - loss: 0.4254 - accuracy: 0.8040 - val_loss: 0.4351 - val_accuracy: 0.7976\n",
            "Epoch 28/100\n",
            "313/313 [==============================] - 13s 42ms/step - loss: 0.4233 - accuracy: 0.8059 - val_loss: 0.4358 - val_accuracy: 0.7966\n",
            "Epoch 29/100\n",
            "313/313 [==============================] - 13s 41ms/step - loss: 0.4240 - accuracy: 0.8044 - val_loss: 0.4342 - val_accuracy: 0.8008\n",
            "Epoch 30/100\n",
            "313/313 [==============================] - 13s 40ms/step - loss: 0.4216 - accuracy: 0.8089 - val_loss: 0.4346 - val_accuracy: 0.7968\n",
            "Epoch 31/100\n",
            "313/313 [==============================] - 13s 43ms/step - loss: 0.4224 - accuracy: 0.8069 - val_loss: 0.4329 - val_accuracy: 0.7968\n",
            "Epoch 32/100\n",
            "313/313 [==============================] - 17s 56ms/step - loss: 0.4202 - accuracy: 0.8084 - val_loss: 0.4327 - val_accuracy: 0.7978\n",
            "Epoch 33/100\n",
            "313/313 [==============================] - 15s 49ms/step - loss: 0.4206 - accuracy: 0.8073 - val_loss: 0.4327 - val_accuracy: 0.7976\n",
            "Epoch 34/100\n",
            "313/313 [==============================] - 13s 41ms/step - loss: 0.4194 - accuracy: 0.8082 - val_loss: 0.4321 - val_accuracy: 0.8008\n",
            "Epoch 35/100\n",
            "313/313 [==============================] - 13s 40ms/step - loss: 0.4210 - accuracy: 0.8061 - val_loss: 0.4318 - val_accuracy: 0.7994\n",
            "Epoch 36/100\n",
            "313/313 [==============================] - 13s 42ms/step - loss: 0.4189 - accuracy: 0.8087 - val_loss: 0.4326 - val_accuracy: 0.7968\n",
            "Epoch 37/100\n",
            "313/313 [==============================] - 13s 41ms/step - loss: 0.4180 - accuracy: 0.8085 - val_loss: 0.4322 - val_accuracy: 0.8020\n",
            "Epoch 38/100\n",
            "313/313 [==============================] - 13s 42ms/step - loss: 0.4170 - accuracy: 0.8094 - val_loss: 0.4320 - val_accuracy: 0.8008\n"
          ]
        }
      ]
    },
    {
      "cell_type": "code",
      "source": [
        "# 3. 훈련 손실과 검증 손실 그래프 출력\n",
        "# [결과 해석] 드롭아웃 효과 발휘\n",
        "plt.plot(history.history['loss'])\n",
        "plt.plot(history.history['val_loss'])\n",
        "plt.xlabel('epoch')\n",
        "plt.ylabel('loss')\n",
        "plt.legend(['train', 'val'])\n",
        "plt.show()"
      ],
      "metadata": {
        "colab": {
          "base_uri": "https://localhost:8080/",
          "height": 449
        },
        "id": "ovz3y_Z3Rjd5",
        "outputId": "e8b586a4-5596-47ab-98d9-ac642a3fa67c"
      },
      "execution_count": 43,
      "outputs": [
        {
          "output_type": "display_data",
          "data": {
            "text/plain": [
              "<Figure size 640x480 with 1 Axes>"
            ],
            "image/png": "[encoded data removed]"
          },
          "metadata": {}
        }
      ]
    },
    {
      "cell_type": "markdown",
      "source": [
        "## 2개의 층을 연결하기"
      ],
      "metadata": {
        "id": "rNNb-ossUK2q"
      }
    },
    {
      "cell_type": "code",
      "source": [
        "# 1. 2개의 층 쌓기\n",
        "# [주의] 순환층에서 모든 타임스텝의 은닉 상태를 출력해야 함\n",
        "#        > 마지막을 제외한 다른 모든 순환층에서 return_sequence 매개변수 = True 설정\n",
        "model3 = keras.Sequential()\n",
        "model3.add(keras.layers.Embedding(500, 16, input_length=100))\n",
        "model3.add(keras.layers.LSTM(8, dropout=0.3, return_sequences=True))\n",
        "model3.add(keras.layers.LSTM(8, dropout=0.3))\n",
        "model3.add(keras.layers.Dense(1, activation='sigmoid'))"
      ],
      "metadata": {
        "id": "7mSgNJaSUPXa"
      },
      "execution_count": 44,
      "outputs": []
    },
    {
      "cell_type": "code",
      "source": [
        "# 2. 모델 구조 확인\n",
        "model3.summary()"
      ],
      "metadata": {
        "colab": {
          "base_uri": "https://localhost:8080/"
        },
        "id": "xDD2v3y9VOwt",
        "outputId": "226a8501-8402-448a-acb7-9850e657e5e6"
      },
      "execution_count": 45,
      "outputs": [
        {
          "output_type": "stream",
          "name": "stdout",
          "text": [
            "Model: \"sequential_6\"\n",
            "_________________________________________________________________\n",
            " Layer (type)                Output Shape              Param #   \n",
            "=================================================================\n",
            " embedding_4 (Embedding)     (None, 100, 16)           8000      \n",
            "                                                                 \n",
            " lstm_2 (LSTM)               (None, 100, 8)            800       \n",
            "                                                                 \n",
            " lstm_3 (LSTM)               (None, 8)                 544       \n",
            "                                                                 \n",
            " dense_6 (Dense)             (None, 1)                 9         \n",
            "                                                                 \n",
            "=================================================================\n",
            "Total params: 9353 (36.54 KB)\n",
            "Trainable params: 9353 (36.54 KB)\n",
            "Non-trainable params: 0 (0.00 Byte)\n",
            "_________________________________________________________________\n"
          ]
        }
      ]
    },
    {
      "cell_type": "code",
      "source": [
        "# 3. 모델 컴파일 & 훈련\n",
        "rmsprop = keras.optimizers.RMSprop(learning_rate=1e-4)\n",
        "model3.compile(optimizer=rmsprop, loss='binary_crossentropy', metrics=['accuracy'])\n",
        "checkpoint_cb = keras.callbacks.ModelCheckpoint('best-2rnn-model.h5', save_best_only=True)\n",
        "early_stopping_cb = keras.callbacks.EarlyStopping(patience=3, restore_best_weights=True)\n",
        "history = model3.fit(train_seq, train_target, epochs=100, batch_size=64,\n",
        "                     validation_data=(val_seq, val_target),\n",
        "                     callbacks=[checkpoint_cb, early_stopping_cb])"
      ],
      "metadata": {
        "colab": {
          "base_uri": "https://localhost:8080/"
        },
        "id": "AveKrn8KVXv-",
        "outputId": "85c30a6f-e2d5-4db5-e232-ae026bdbacbd"
      },
      "execution_count": 46,
      "outputs": [
        {
          "output_type": "stream",
          "name": "stdout",
          "text": [
            "Epoch 1/100\n",
            "313/313 [==============================] - 31s 85ms/step - loss: 0.6930 - accuracy: 0.5166 - val_loss: 0.6927 - val_accuracy: 0.5434\n",
            "Epoch 2/100\n",
            "  2/313 [..............................] - ETA: 19s - loss: 0.6925 - accuracy: 0.5234"
          ]
        },
        {
          "output_type": "stream",
          "name": "stderr",
          "text": [
            "/usr/local/lib/python3.10/dist-packages/keras/src/engine/training.py:3103: UserWarning: You are saving your model as an HDF5 file via `model.save()`. This file format is considered legacy. We recommend using instead the native Keras format, e.g. `model.save('my_model.keras')`.\n",
            "  saving_api.save_model(\n"
          ]
        },
        {
          "output_type": "stream",
          "name": "stdout",
          "text": [
            "313/313 [==============================] - 23s 73ms/step - loss: 0.6922 - accuracy: 0.5562 - val_loss: 0.6914 - val_accuracy: 0.6034\n",
            "Epoch 3/100\n",
            "313/313 [==============================] - 30s 97ms/step - loss: 0.6890 - accuracy: 0.6053 - val_loss: 0.6844 - val_accuracy: 0.6340\n",
            "Epoch 4/100\n",
            "313/313 [==============================] - 31s 99ms/step - loss: 0.6703 - accuracy: 0.6470 - val_loss: 0.6434 - val_accuracy: 0.6792\n",
            "Epoch 5/100\n",
            "313/313 [==============================] - 24s 78ms/step - loss: 0.6057 - accuracy: 0.6934 - val_loss: 0.5746 - val_accuracy: 0.7138\n",
            "Epoch 6/100\n",
            "313/313 [==============================] - 23s 73ms/step - loss: 0.5661 - accuracy: 0.7172 - val_loss: 0.5538 - val_accuracy: 0.7296\n",
            "Epoch 7/100\n",
            "313/313 [==============================] - 23s 74ms/step - loss: 0.5435 - accuracy: 0.7367 - val_loss: 0.5242 - val_accuracy: 0.7522\n",
            "Epoch 8/100\n",
            "313/313 [==============================] - 22s 72ms/step - loss: 0.5243 - accuracy: 0.7461 - val_loss: 0.5095 - val_accuracy: 0.7584\n",
            "Epoch 9/100\n",
            "313/313 [==============================] - 23s 74ms/step - loss: 0.5098 - accuracy: 0.7584 - val_loss: 0.4961 - val_accuracy: 0.7682\n",
            "Epoch 10/100\n",
            "313/313 [==============================] - 22s 70ms/step - loss: 0.4978 - accuracy: 0.7655 - val_loss: 0.4865 - val_accuracy: 0.7774\n",
            "Epoch 11/100\n",
            "313/313 [==============================] - 23s 72ms/step - loss: 0.4912 - accuracy: 0.7702 - val_loss: 0.4801 - val_accuracy: 0.7806\n",
            "Epoch 12/100\n",
            "313/313 [==============================] - 23s 73ms/step - loss: 0.4828 - accuracy: 0.7772 - val_loss: 0.4754 - val_accuracy: 0.7824\n",
            "Epoch 13/100\n",
            "313/313 [==============================] - 23s 73ms/step - loss: 0.4771 - accuracy: 0.7775 - val_loss: 0.4690 - val_accuracy: 0.7844\n",
            "Epoch 14/100\n",
            "313/313 [==============================] - 24s 76ms/step - loss: 0.4690 - accuracy: 0.7818 - val_loss: 0.4657 - val_accuracy: 0.7830\n",
            "Epoch 15/100\n",
            "313/313 [==============================] - 22s 71ms/step - loss: 0.4661 - accuracy: 0.7847 - val_loss: 0.4629 - val_accuracy: 0.7856\n",
            "Epoch 16/100\n",
            "313/313 [==============================] - 23s 72ms/step - loss: 0.4604 - accuracy: 0.7875 - val_loss: 0.4596 - val_accuracy: 0.7864\n",
            "Epoch 17/100\n",
            "313/313 [==============================] - 23s 72ms/step - loss: 0.4565 - accuracy: 0.7904 - val_loss: 0.4621 - val_accuracy: 0.7858\n",
            "Epoch 18/100\n",
            "313/313 [==============================] - 23s 73ms/step - loss: 0.4552 - accuracy: 0.7921 - val_loss: 0.4535 - val_accuracy: 0.7918\n",
            "Epoch 19/100\n",
            "313/313 [==============================] - 22s 70ms/step - loss: 0.4527 - accuracy: 0.7911 - val_loss: 0.4526 - val_accuracy: 0.7906\n",
            "Epoch 20/100\n",
            "313/313 [==============================] - 22s 70ms/step - loss: 0.4473 - accuracy: 0.7958 - val_loss: 0.4509 - val_accuracy: 0.7882\n",
            "Epoch 21/100\n",
            "313/313 [==============================] - 23s 73ms/step - loss: 0.4455 - accuracy: 0.7944 - val_loss: 0.4497 - val_accuracy: 0.7898\n",
            "Epoch 22/100\n",
            "313/313 [==============================] - 23s 72ms/step - loss: 0.4457 - accuracy: 0.7936 - val_loss: 0.4460 - val_accuracy: 0.7922\n",
            "Epoch 23/100\n",
            "313/313 [==============================] - 22s 70ms/step - loss: 0.4411 - accuracy: 0.7996 - val_loss: 0.4519 - val_accuracy: 0.7904\n",
            "Epoch 24/100\n",
            "313/313 [==============================] - 22s 70ms/step - loss: 0.4412 - accuracy: 0.8001 - val_loss: 0.4512 - val_accuracy: 0.7914\n",
            "Epoch 25/100\n",
            "313/313 [==============================] - 22s 71ms/step - loss: 0.4382 - accuracy: 0.7987 - val_loss: 0.4432 - val_accuracy: 0.7942\n",
            "Epoch 26/100\n",
            "313/313 [==============================] - 22s 71ms/step - loss: 0.4360 - accuracy: 0.8005 - val_loss: 0.4482 - val_accuracy: 0.7942\n",
            "Epoch 27/100\n",
            "313/313 [==============================] - 22s 70ms/step - loss: 0.4353 - accuracy: 0.8000 - val_loss: 0.4442 - val_accuracy: 0.7946\n",
            "Epoch 28/100\n",
            "313/313 [==============================] - 22s 70ms/step - loss: 0.4344 - accuracy: 0.8022 - val_loss: 0.4417 - val_accuracy: 0.7932\n",
            "Epoch 29/100\n",
            "313/313 [==============================] - 22s 71ms/step - loss: 0.4332 - accuracy: 0.8020 - val_loss: 0.4460 - val_accuracy: 0.7954\n",
            "Epoch 30/100\n",
            "313/313 [==============================] - 22s 71ms/step - loss: 0.4295 - accuracy: 0.8044 - val_loss: 0.4399 - val_accuracy: 0.7956\n",
            "Epoch 31/100\n",
            "313/313 [==============================] - 21s 68ms/step - loss: 0.4321 - accuracy: 0.8055 - val_loss: 0.4394 - val_accuracy: 0.7966\n",
            "Epoch 32/100\n",
            "313/313 [==============================] - 22s 71ms/step - loss: 0.4310 - accuracy: 0.8045 - val_loss: 0.4413 - val_accuracy: 0.7884\n",
            "Epoch 33/100\n",
            "313/313 [==============================] - 23s 73ms/step - loss: 0.4281 - accuracy: 0.8033 - val_loss: 0.4451 - val_accuracy: 0.7980\n",
            "Epoch 34/100\n",
            "313/313 [==============================] - 22s 72ms/step - loss: 0.4297 - accuracy: 0.8051 - val_loss: 0.4384 - val_accuracy: 0.7956\n",
            "Epoch 35/100\n",
            "313/313 [==============================] - 22s 69ms/step - loss: 0.4272 - accuracy: 0.8033 - val_loss: 0.4388 - val_accuracy: 0.7972\n",
            "Epoch 36/100\n",
            "313/313 [==============================] - 23s 72ms/step - loss: 0.4284 - accuracy: 0.8035 - val_loss: 0.4381 - val_accuracy: 0.7984\n",
            "Epoch 37/100\n",
            "313/313 [==============================] - 23s 75ms/step - loss: 0.4254 - accuracy: 0.8073 - val_loss: 0.4375 - val_accuracy: 0.7964\n",
            "Epoch 38/100\n",
            "313/313 [==============================] - 23s 74ms/step - loss: 0.4271 - accuracy: 0.8046 - val_loss: 0.4371 - val_accuracy: 0.7980\n",
            "Epoch 39/100\n",
            "313/313 [==============================] - 23s 74ms/step - loss: 0.4249 - accuracy: 0.8031 - val_loss: 0.4385 - val_accuracy: 0.7976\n",
            "Epoch 40/100\n",
            "313/313 [==============================] - 24s 75ms/step - loss: 0.4245 - accuracy: 0.8057 - val_loss: 0.4398 - val_accuracy: 0.7976\n",
            "Epoch 41/100\n",
            "313/313 [==============================] - 22s 71ms/step - loss: 0.4258 - accuracy: 0.8051 - val_loss: 0.4383 - val_accuracy: 0.8002\n"
          ]
        }
      ]
    },
    {
      "cell_type": "code",
      "source": [
        "# 4. 훈련 손실과 검증 손실 그래픽 출력\n",
        "plt.plot(history.history['loss'])\n",
        "plt.plot(history.history['val_loss'])\n",
        "plt.xlabel('epoch')\n",
        "plt.ylabel('loss')\n",
        "plt.legend(['train', 'val'])\n",
        "plt.show()"
      ],
      "metadata": {
        "colab": {
          "base_uri": "https://localhost:8080/",
          "height": 449
        },
        "id": "uZni-_mVWVr0",
        "outputId": "a17a4a81-24d8-4f1a-edb5-c39bfe353fab"
      },
      "execution_count": 47,
      "outputs": [
        {
          "output_type": "display_data",
          "data": {
            "text/plain": [
              "<Figure size 640x480 with 1 Axes>"
            ],
            "image/png": "[encoded data removed]"
          },
          "metadata": {}
        }
      ]
    },
    {
      "cell_type": "markdown",
      "source": [
        "## GRU 신경망 훈련하기"
      ],
      "metadata": {
        "id": "UsDyRc6eaUwD"
      }
    },
    {
      "cell_type": "code",
      "source": [
        "# 1. GRU로 모델 생성\n",
        "model4 = keras.Sequential()\n",
        "model4.add(keras.layers.Embedding(500, 16, input_length=100))\n",
        "model4.add(keras.layers.GRU(8))\n",
        "model4.add(keras.layers.Dense(1, activation='sigmoid'))"
      ],
      "metadata": {
        "id": "xHzhQHcDau_K"
      },
      "execution_count": 48,
      "outputs": []
    },
    {
      "cell_type": "code",
      "source": [
        "# 2. 모델 구조 확인\n",
        "model4.summary()"
      ],
      "metadata": {
        "colab": {
          "base_uri": "https://localhost:8080/"
        },
        "id": "_Pfdbj9RbDDO",
        "outputId": "2aa1e42d-5e08-4902-cd0e-3b51043c6400"
      },
      "execution_count": 49,
      "outputs": [
        {
          "output_type": "stream",
          "name": "stdout",
          "text": [
            "Model: \"sequential_7\"\n",
            "_________________________________________________________________\n",
            " Layer (type)                Output Shape              Param #   \n",
            "=================================================================\n",
            " embedding_5 (Embedding)     (None, 100, 16)           8000      \n",
            "                                                                 \n",
            " gru (GRU)                   (None, 8)                 624       \n",
            "                                                                 \n",
            " dense_7 (Dense)             (None, 1)                 9         \n",
            "                                                                 \n",
            "=================================================================\n",
            "Total params: 8633 (33.72 KB)\n",
            "Trainable params: 8633 (33.72 KB)\n",
            "Non-trainable params: 0 (0.00 Byte)\n",
            "_________________________________________________________________\n"
          ]
        }
      ]
    },
    {
      "cell_type": "code",
      "source": [
        "# 3. 모델 컴파일 & 훈련\n",
        "rmsprop = keras.optimizers.RMSprop(learning_rate=1e-4)\n",
        "model4.compile(optimizer=rmsprop, loss='binary_crossentropy', metrics=['accuracy'])\n",
        "checkpoint_cb = keras.callbacks.ModelCheckpoint('best-gru-model.h5', save_best_only=True)\n",
        "early_stopping_cb = keras.callbacks.EarlyStopping(patience=3, restore_best_weights=True)\n",
        "history = model4.fit(train_seq, train_target, epochs=100, batch_size=64,\n",
        "                     validation_data=(val_seq, val_target),\n",
        "                     callbacks=[checkpoint_cb, early_stopping_cb])"
      ],
      "metadata": {
        "colab": {
          "base_uri": "https://localhost:8080/"
        },
        "id": "qulsBydEbNek",
        "outputId": "86da9fb5-34c4-43d3-e4f2-858595c4d42d"
      },
      "execution_count": 50,
      "outputs": [
        {
          "output_type": "stream",
          "name": "stdout",
          "text": [
            "Epoch 1/100\n",
            "313/313 [==============================] - 23s 61ms/step - loss: 0.6922 - accuracy: 0.5240 - val_loss: 0.6917 - val_accuracy: 0.5344\n",
            "Epoch 2/100\n",
            "  3/313 [..............................] - ETA: 10s - loss: 0.6916 - accuracy: 0.5677"
          ]
        },
        {
          "output_type": "stream",
          "name": "stderr",
          "text": [
            "/usr/local/lib/python3.10/dist-packages/keras/src/engine/training.py:3103: UserWarning: You are saving your model as an HDF5 file via `model.save()`. This file format is considered legacy. We recommend using instead the native Keras format, e.g. `model.save('my_model.keras')`.\n",
            "  saving_api.save_model(\n"
          ]
        },
        {
          "output_type": "stream",
          "name": "stdout",
          "text": [
            "313/313 [==============================] - 21s 66ms/step - loss: 0.6898 - accuracy: 0.5706 - val_loss: 0.6889 - val_accuracy: 0.5818\n",
            "Epoch 3/100\n",
            "313/313 [==============================] - 22s 71ms/step - loss: 0.6862 - accuracy: 0.5982 - val_loss: 0.6850 - val_accuracy: 0.5856\n",
            "Epoch 4/100\n",
            "313/313 [==============================] - 13s 40ms/step - loss: 0.6805 - accuracy: 0.6146 - val_loss: 0.6786 - val_accuracy: 0.5994\n",
            "Epoch 5/100\n",
            "313/313 [==============================] - 13s 42ms/step - loss: 0.6715 - accuracy: 0.6284 - val_loss: 0.6679 - val_accuracy: 0.6192\n",
            "Epoch 6/100\n",
            "313/313 [==============================] - 18s 58ms/step - loss: 0.6567 - accuracy: 0.6431 - val_loss: 0.6503 - val_accuracy: 0.6434\n",
            "Epoch 7/100\n",
            "313/313 [==============================] - 19s 60ms/step - loss: 0.6317 - accuracy: 0.6668 - val_loss: 0.6185 - val_accuracy: 0.6760\n",
            "Epoch 8/100\n",
            "313/313 [==============================] - 19s 61ms/step - loss: 0.5820 - accuracy: 0.7017 - val_loss: 0.5548 - val_accuracy: 0.7220\n",
            "Epoch 9/100\n",
            "313/313 [==============================] - 13s 43ms/step - loss: 0.5222 - accuracy: 0.7429 - val_loss: 0.5150 - val_accuracy: 0.7484\n",
            "Epoch 10/100\n",
            "313/313 [==============================] - 12s 39ms/step - loss: 0.4965 - accuracy: 0.7619 - val_loss: 0.4964 - val_accuracy: 0.7610\n",
            "Epoch 11/100\n",
            "313/313 [==============================] - 12s 40ms/step - loss: 0.4789 - accuracy: 0.7718 - val_loss: 0.4796 - val_accuracy: 0.7742\n",
            "Epoch 12/100\n",
            "313/313 [==============================] - 12s 40ms/step - loss: 0.4651 - accuracy: 0.7825 - val_loss: 0.4695 - val_accuracy: 0.7802\n",
            "Epoch 13/100\n",
            "313/313 [==============================] - 13s 41ms/step - loss: 0.4550 - accuracy: 0.7915 - val_loss: 0.4643 - val_accuracy: 0.7862\n",
            "Epoch 14/100\n",
            "313/313 [==============================] - 13s 41ms/step - loss: 0.4467 - accuracy: 0.7965 - val_loss: 0.4602 - val_accuracy: 0.7932\n",
            "Epoch 15/100\n",
            "313/313 [==============================] - 13s 42ms/step - loss: 0.4409 - accuracy: 0.7996 - val_loss: 0.4536 - val_accuracy: 0.7926\n",
            "Epoch 16/100\n",
            "313/313 [==============================] - 13s 41ms/step - loss: 0.4358 - accuracy: 0.8020 - val_loss: 0.4493 - val_accuracy: 0.7946\n",
            "Epoch 17/100\n",
            "313/313 [==============================] - 13s 40ms/step - loss: 0.4317 - accuracy: 0.8045 - val_loss: 0.4472 - val_accuracy: 0.7934\n",
            "Epoch 18/100\n",
            "313/313 [==============================] - 13s 42ms/step - loss: 0.4289 - accuracy: 0.8080 - val_loss: 0.4465 - val_accuracy: 0.7906\n",
            "Epoch 19/100\n",
            "313/313 [==============================] - 13s 40ms/step - loss: 0.4264 - accuracy: 0.8083 - val_loss: 0.4471 - val_accuracy: 0.7968\n",
            "Epoch 20/100\n",
            "313/313 [==============================] - 12s 40ms/step - loss: 0.4243 - accuracy: 0.8106 - val_loss: 0.4434 - val_accuracy: 0.7920\n",
            "Epoch 21/100\n",
            "313/313 [==============================] - 13s 40ms/step - loss: 0.4224 - accuracy: 0.8109 - val_loss: 0.4436 - val_accuracy: 0.7920\n",
            "Epoch 22/100\n",
            "313/313 [==============================] - 12s 39ms/step - loss: 0.4211 - accuracy: 0.8113 - val_loss: 0.4420 - val_accuracy: 0.7934\n",
            "Epoch 23/100\n",
            "313/313 [==============================] - 13s 40ms/step - loss: 0.4201 - accuracy: 0.8120 - val_loss: 0.4414 - val_accuracy: 0.7948\n",
            "Epoch 24/100\n",
            "313/313 [==============================] - 12s 40ms/step - loss: 0.4184 - accuracy: 0.8132 - val_loss: 0.4437 - val_accuracy: 0.7906\n",
            "Epoch 25/100\n",
            "313/313 [==============================] - 12s 40ms/step - loss: 0.4182 - accuracy: 0.8140 - val_loss: 0.4408 - val_accuracy: 0.7964\n",
            "Epoch 26/100\n",
            "313/313 [==============================] - 12s 40ms/step - loss: 0.4177 - accuracy: 0.8137 - val_loss: 0.4404 - val_accuracy: 0.7952\n",
            "Epoch 27/100\n",
            "313/313 [==============================] - 13s 41ms/step - loss: 0.4168 - accuracy: 0.8152 - val_loss: 0.4449 - val_accuracy: 0.7940\n",
            "Epoch 28/100\n",
            "313/313 [==============================] - 13s 40ms/step - loss: 0.4159 - accuracy: 0.8137 - val_loss: 0.4402 - val_accuracy: 0.7962\n",
            "Epoch 29/100\n",
            "313/313 [==============================] - 13s 41ms/step - loss: 0.4155 - accuracy: 0.8145 - val_loss: 0.4409 - val_accuracy: 0.7950\n",
            "Epoch 30/100\n",
            "313/313 [==============================] - 13s 40ms/step - loss: 0.4148 - accuracy: 0.8148 - val_loss: 0.4405 - val_accuracy: 0.7960\n",
            "Epoch 31/100\n",
            "313/313 [==============================] - 12s 39ms/step - loss: 0.4143 - accuracy: 0.8164 - val_loss: 0.4390 - val_accuracy: 0.7974\n",
            "Epoch 32/100\n",
            "313/313 [==============================] - 12s 40ms/step - loss: 0.4143 - accuracy: 0.8150 - val_loss: 0.4451 - val_accuracy: 0.7878\n",
            "Epoch 33/100\n",
            "313/313 [==============================] - 13s 40ms/step - loss: 0.4140 - accuracy: 0.8156 - val_loss: 0.4391 - val_accuracy: 0.7966\n",
            "Epoch 34/100\n",
            "313/313 [==============================] - 13s 40ms/step - loss: 0.4134 - accuracy: 0.8156 - val_loss: 0.4451 - val_accuracy: 0.7888\n"
          ]
        }
      ]
    },
    {
      "cell_type": "code",
      "source": [
        "# 4. 훈련 손실과 검증 손실 그래프 출력\n",
        "plt.plot(history.history['loss'])\n",
        "plt.plot(history.history['val_loss'])\n",
        "plt.xlabel('epoch')\n",
        "plt.ylabel('loss')\n",
        "plt.legend(['train', 'val'])\n",
        "plt.show()"
      ],
      "metadata": {
        "colab": {
          "base_uri": "https://localhost:8080/",
          "height": 449
        },
        "id": "nn64m0Smc4Ix",
        "outputId": "c31807f2-b49c-4ec0-95ec-1e2ff40eaa53"
      },
      "execution_count": 51,
      "outputs": [
        {
          "output_type": "display_data",
          "data": {
            "text/plain": [
              "<Figure size 640x480 with 1 Axes>"
            ],
            "image/png": "[encoded data removed]"
          },
          "metadata": {}
        }
      ]
    },
    {
      "cell_type": "markdown",
      "source": [
        "## LSTM과 GRU 셀로 훈련 과정"
      ],
      "metadata": {
        "id": "yxv3nZr-dN0C"
      }
    },
    {
      "cell_type": "code",
      "source": [
        "# 1. 테스트 세트의 성능 계산\n",
        "test_seq = pad_sequences(test_input, maxlen=100)\n",
        "rnn_model = keras.models.load_model('best-2rnn-model.h5')\n",
        "rnn_model.evaluate(test_seq, test_target)"
      ],
      "metadata": {
        "colab": {
          "base_uri": "https://localhost:8080/"
        },
        "id": "x_LLQXDpdQks",
        "outputId": "3bb80a96-71ec-4f9a-b7f5-d95b07049d5d"
      },
      "execution_count": 52,
      "outputs": [
        {
          "output_type": "stream",
          "name": "stdout",
          "text": [
            "782/782 [==============================] - 13s 15ms/step - loss: 0.4306 - accuracy: 0.7988\n"
          ]
        },
        {
          "output_type": "execute_result",
          "data": {
            "text/plain": [
              "[0.43060389161109924, 0.7987599968910217]"
            ]
          },
          "metadata": {},
          "execution_count": 52
        }
      ]
    },
    {
      "cell_type": "code",
      "source": [],
      "metadata": {
        "id": "vGqeu-e4gaBy"
      },
      "execution_count": null,
      "outputs": []
    }
  ]
}